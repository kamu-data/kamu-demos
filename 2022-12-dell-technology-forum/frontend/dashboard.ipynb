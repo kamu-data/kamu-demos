{
 "cells": [
  {
   "cell_type": "code",
   "execution_count": null,
   "id": "930ead59",
   "metadata": {},
   "outputs": [],
   "source": [
    "%%capture\n",
    "%load_ext kamu\n",
    "%import_dataset player-scores"
   ]
  },
  {
   "cell_type": "code",
   "execution_count": null,
   "id": "1c1a885f",
   "metadata": {},
   "outputs": [],
   "source": [
    "%%capture\n",
    "%%sql -o scores -q\n",
    "select\n",
    "    *\n",
    "from `player-scores`"
   ]
  },
  {
   "cell_type": "code",
   "execution_count": null,
   "id": "eeb68b3c",
   "metadata": {},
   "outputs": [],
   "source": [
    "%%capture\n",
    "%%sql -o leaderboard -q\n",
    "with best_scores as (\n",
    "    select\n",
    "        name,\n",
    "        max(score) as best_score\n",
    "    from `player-scores`\n",
    "    group by name\n",
    "),\n",
    "\n",
    "last_scores as (\n",
    "    select name, score as last_score from (\n",
    "        select\n",
    "            name,\n",
    "            row_number() over (partition by name order by event_time desc) as rn,\n",
    "            score\n",
    "        from `player-scores`\n",
    "    )\n",
    "    where rn = 1    \n",
    ")\n",
    "\n",
    "select\n",
    "    * \n",
    "from best_scores b\n",
    "join last_scores l\n",
    "on b.name = l.name"
   ]
  },
  {
   "cell_type": "code",
   "execution_count": null,
   "id": "8cfff7e3",
   "metadata": {},
   "outputs": [],
   "source": [
    "%%local\n",
    "import pandas\n",
    "import hvplot.pandas\n",
    "from IPython.display import display, HTML"
   ]
  },
  {
   "cell_type": "code",
   "execution_count": null,
   "id": "09538eb6",
   "metadata": {},
   "outputs": [],
   "source": [
    "%%local\n",
    "display(HTML('<h1>Open Data For Data Science</h1>'))"
   ]
  },
  {
   "cell_type": "code",
   "execution_count": null,
   "id": "795b0ed4",
   "metadata": {},
   "outputs": [],
   "source": [
    "%%local\n",
    "display(HTML(leaderboard.to_html()))"
   ]
  },
  {
   "cell_type": "code",
   "execution_count": null,
   "id": "1d6d9d35",
   "metadata": {},
   "outputs": [],
   "source": [
    "%%local\n",
    "scores.hvplot.box(\"score\", by=\"name\", height=500, width=800, title=\"Players score distribution\")"
   ]
  },
  {
   "cell_type": "code",
   "execution_count": null,
   "id": "a279682a",
   "metadata": {},
   "outputs": [],
   "source": [
    "%%local\n",
    "display(HTML('''\n",
    "<script>\n",
    "setTimeout(() => {\n",
    "  window.location.reload();\n",
    "}, 15000); // refresh every 15s\n",
    "</script>\n",
    "'''))"
   ]
  },
  {
   "cell_type": "code",
   "execution_count": null,
   "id": "9e01b2d4",
   "metadata": {},
   "outputs": [],
   "source": []
  }
 ],
 "metadata": {
  "kernelspec": {
   "display_name": "PySpark",
   "language": "python",
   "name": "pysparkkernel"
  },
  "language_info": {
   "codemirror_mode": {
    "name": "python",
    "version": 3
   },
   "file_extension": ".py",
   "mimetype": "text/x-python",
   "name": "pyspark",
   "pygments_lexer": "python3"
  }
 },
 "nbformat": 4,
 "nbformat_minor": 5
}
