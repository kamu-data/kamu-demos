{
 "cells": [
  {
   "cell_type": "code",
   "execution_count": 1,
   "id": "a71da4d1",
   "metadata": {},
   "outputs": [
    {
     "name": "stdout",
     "output_type": "stream",
     "text": [
      "Starting Spark application\n"
     ]
    },
    {
     "data": {
      "text/html": [
       "<table>\n",
       "<tr><th>ID</th><th>YARN Application ID</th><th>Kind</th><th>State</th><th>Spark UI</th><th>Driver log</th><th>User</th><th>Current session?</th></tr><tr><td>0</td><td>None</td><td>pyspark</td><td>idle</td><td></td><td></td><td>None</td><td>✔</td></tr></table>"
      ],
      "text/plain": [
       "<IPython.core.display.HTML object>"
      ]
     },
     "metadata": {},
     "output_type": "display_data"
    },
    {
     "data": {
      "application/vnd.jupyter.widget-view+json": {
       "model_id": "",
       "version_major": 2,
       "version_minor": 0
      },
      "text/plain": [
       "FloatProgress(value=0.0, bar_style='info', description='Progress:', layout=Layout(height='25px', width='50%'),…"
      ]
     },
     "metadata": {},
     "output_type": "display_data"
    },
    {
     "name": "stdout",
     "output_type": "stream",
     "text": [
      "SparkSession available as 'spark'.\n"
     ]
    },
    {
     "data": {
      "application/vnd.jupyter.widget-view+json": {
       "model_id": "",
       "version_major": 2,
       "version_minor": 0
      },
      "text/plain": [
       "FloatProgress(value=0.0, bar_style='info', description='Progress:', layout=Layout(height='25px', width='50%'),…"
      ]
     },
     "metadata": {},
     "output_type": "display_data"
    },
    {
     "data": {
      "application/vnd.jupyter.widget-view+json": {
       "model_id": "",
       "version_major": 2,
       "version_minor": 0
      },
      "text/plain": [
       "FloatProgress(value=0.0, bar_style='info', description='Progress:', layout=Layout(height='25px', width='50%'),…"
      ]
     },
     "metadata": {},
     "output_type": "display_data"
    },
    {
     "data": {
      "application/vnd.jupyter.widget-view+json": {
       "model_id": "",
       "version_major": 2,
       "version_minor": 0
      },
      "text/plain": [
       "FloatProgress(value=0.0, bar_style='info', description='Progress:', layout=Layout(height='25px', width='50%'),…"
      ]
     },
     "metadata": {},
     "output_type": "display_data"
    }
   ],
   "source": [
    "%load_ext kamu\n",
    "%import_dataset matches\n",
    "%import_dataset player-scores\n",
    "%import_dataset player-scores-total"
   ]
  },
  {
   "cell_type": "code",
   "execution_count": 2,
   "id": "4af535c7",
   "metadata": {},
   "outputs": [
    {
     "data": {
      "application/vnd.jupyter.widget-view+json": {
       "model_id": "",
       "version_major": 2,
       "version_minor": 0
      },
      "text/plain": [
       "FloatProgress(value=0.0, bar_style='info', description='Progress:', layout=Layout(height='25px', width='50%'),…"
      ]
     },
     "metadata": {},
     "output_type": "display_data"
    },
    {
     "data": {
      "application/vnd.jupyter.widget-view+json": {
       "model_id": "2e59010bf69b4f31a99ff11fd8a9eeb0",
       "version_major": 2,
       "version_minor": 0
      },
      "text/plain": [
       "VBox(children=(HBox(children=(HTML(value='Type:'), Button(description='Table', layout=Layout(width='70px'), st…"
      ]
     },
     "metadata": {},
     "output_type": "display_data"
    },
    {
     "data": {
      "application/vnd.jupyter.widget-view+json": {
       "model_id": "982d1f4ff0d6434995272dfaf6caa415",
       "version_major": 2,
       "version_minor": 0
      },
      "text/plain": [
       "Output()"
      ]
     },
     "metadata": {},
     "output_type": "display_data"
    }
   ],
   "source": [
    "%%sql -o df\n",
    "select * \n",
    "from matches order by event_time desc limit 1"
   ]
  },
  {
   "cell_type": "code",
   "execution_count": null,
   "id": "5e9715ed",
   "metadata": {
    "scrolled": false
   },
   "outputs": [],
   "source": [
    "%%local\n",
    "# %matplotlib notebook\n",
    "import json\n",
    "import os\n",
    "import pathlib\n",
    "import time\n",
    "from typing import List\n",
    "\n",
    "import pandas as pd\n",
    "import hvplot.pandas\n",
    "\n",
    "\n",
    "import numpy as np\n",
    "from matplotlib import pyplot as plt\n",
    "from matplotlib.animation import FuncAnimation\n",
    "from scipy.stats import gaussian_kde as kde\n",
    "from IPython import display\n",
    "\n",
    "from rattletrap import Replay\n",
    "\n",
    "file_directory = pathlib.Path(\".\").parent.absolute()\n",
    "\n",
    "# this script reads the RL replay file and parses it into a json(internally) using rattletrap.exe\n",
    "# afterwards the necessary it extracted and then turned into a heatmap, displays the match in 2d; see specific explanation below\n",
    "# the main player is the player from which the replay was grabbed\n",
    "\n",
    "# plt.rcParams[\"animation.html\"] = \"jshtml\"\n",
    "# plt.rcParams['figure.dpi'] = 150  \n",
    "# # plt.rcParams[\"animatio\"]\n",
    "# plt.ion()\n",
    "\n",
    "player_ids = {}\n",
    "\n",
    "player_int = []\n",
    "player_nam = {}\n",
    "vip = \"KrabbyPattie\"\n",
    "teamnr = 0\n",
    "teamord = {}\n",
    "timex = []\n",
    "ballids = []\n",
    "k = 0\n",
    "\n",
    "def get_car_paths(replay: Replay):\n",
    "    global vip, teamnr, teamord\n",
    "    actor_positions, actor_boosts = {},{}\n",
    "    io = 1\n",
    "    jo = 3\n",
    "    for i in range(6):\n",
    "        teamord[i] = []\n",
    "    # this first loop gathers the player names into a dict, and makes a dict for the ids of each player(see below)\n",
    "    for index, names in enumerate(replay.header.data[\"body\"][\"properties\"][\"value\"][\"PlayerStats\"][\"value\"][\"array\"]):\n",
    "        if names[\"value\"][\"Name\"][\"value\"][\"str\"] == vip:\n",
    "            k = index\n",
    "            teamnr = names[\"value\"][\"Team\"][\"value\"][\"int\"]\n",
    "            teamord[0] = str(names[\"value\"][\"Name\"][\"value\"][\"str\"])\n",
    "    for index, names in enumerate(replay.header.data[\"body\"][\"properties\"][\"value\"][\"PlayerStats\"][\"value\"][\"array\"]):\n",
    "        player_ids[index] = []\n",
    "        \n",
    "        player_nam[index] = []\n",
    "\n",
    "        if names[\"value\"][\"Team\"][\"value\"][\"int\"] == teamnr and k != index:\n",
    "            teamord[io] = str(names[\"value\"][\"Name\"][\"value\"][\"str\"])\n",
    "#             print(str(names[\"value\"][\"Name\"][\"value\"][\"str\"]))\n",
    "            io+=1\n",
    "        else:\n",
    "            if k != index:\n",
    "                teamord[jo] = str(names[\"value\"][\"Name\"][\"value\"][\"str\"])\n",
    "#                 print(str(names[\"value\"][\"Name\"][\"value\"][\"str\"]))\n",
    "                jo+=1\n",
    "                    \n",
    "#     print(teamord)\n",
    "    player_ids[6] = []\n",
    "    player_nam[6] = []\n",
    "    # the extracted json uses \"frames\" to denote new information. not sure if a frame is made every x ms, or made when new info is needed\n",
    "    for frame in replay.content.data[\"body\"][\"frames\"][:]:\n",
    "        for replication in frame[\"replications\"]:\n",
    "            # every frame has an actor id; data tied to that actor id. can be a car, ball, boost pads etc..\n",
    "            actor_id = replication[\"actor_id\"][\"value\"]\n",
    "            # frames have spawned and update types. both can be in a single frame.\n",
    "            if \"spawned\" in replication[\"value\"]:\n",
    "                if actor_id not in actor_positions:\n",
    "                    # find a frame for which the spawn tag is for a car\n",
    "                    if replication[\"value\"][\"spawned\"][\"object_name\"] == \"Archetypes.Car.Car_Default\":\n",
    "                        # initiate a empty array for the corresponding actor id.\n",
    "                        actor_positions[actor_id] = []\n",
    "                    try:\n",
    "                        loc = replication[\"value\"][\"spawned\"][\"initialization\"][\"location\"]\n",
    "                        actor_positions[actor_id].append({\"time\": frame[\"time\"], \"x\": loc[\"x\"], \"y\": loc[\"y\"]})\n",
    "                    except:\n",
    "                        pass\n",
    "\n",
    "                    if replication[\"value\"][\"spawned\"][\"object_name\"] == \"Archetypes.Ball.Ball_Default\":\n",
    "                        actor_positions[actor_id] = []\n",
    "                        actor_boosts[actor_id] = []\n",
    "                        player_ids[6].append(actor_id)\n",
    "            if \"updated\" in replication[\"value\"]:\n",
    "                for update in replication[\"value\"][\"updated\"]:\n",
    "                    # sometimes, new actor ids are spawned for the same player, here we find a frame with that info\n",
    "                    # and then put all actor ids of each specific player into their corresponding array.\n",
    "\n",
    "                    if update[\"name\"] == \"Engine.Pawn:PlayerReplicationInfo\":\n",
    "                        if update[\"value\"][\"flagged_int\"][\"int\"] not in player_int:\n",
    "                            # get the player identifier. this is different than an actor id.\n",
    "                            player_int.append(update[\"value\"][\"flagged_int\"][\"int\"])\n",
    "                        # here we use the array generated at the top to store the multiple \"car ids\" of each player\n",
    "                    \n",
    "\n",
    "                    # finally, find the xyz data and add that to a dict for each \"car id\".\n",
    "                    # the list we just made above is used later in the code to connect all the xyz data for each player together\n",
    "                    if update[\"name\"] == \"TAGame.RBActor_TA:ReplicatedRBState\" and actor_id in actor_positions:\n",
    "                        rigid_body_location = update[\"value\"][\"rigid_body_state\"][\"location\"]\n",
    "      \n",
    "                        # append to name positions\n",
    "\n",
    "                        actor_positions[actor_id].append({\"time\": frame[\"time\"], \"x\": (rigid_body_location[\"x\"] / 100),\n",
    "                                                          \"y\": (rigid_body_location[\"y\"] / 100)})\n",
    "    for frame in replay.content.data[\"body\"][\"frames\"][:]:\n",
    "        for replication in frame[\"replications\"]:\n",
    "            actor_id = replication[\"actor_id\"][\"value\"]\n",
    "            if \"updated\" in replication[\"value\"]:\n",
    "                for update in replication[\"value\"][\"updated\"]:\n",
    "                    if update[\"name\"] == \"Engine.PlayerReplicationInfo:PlayerName\":\n",
    "                        for op in range(len(player_int)):\n",
    "                            if actor_id == player_int[op]:\n",
    "                                player_nam[op]=update[\"value\"][\"string\"]\n",
    "                    if update[\"name\"] == \"Engine.Pawn:PlayerReplicationInfo\":\n",
    "                        for op in range(len(player_int)):\n",
    "                            if update[\"value\"][\"flagged_int\"][\"int\"] == player_int[op] and actor_id not in player_ids[\n",
    "                                op]:\n",
    "                                player_ids[op].append(actor_id)\n",
    "\n",
    "    return actor_positions, actor_boosts\n",
    "\n",
    "def car_positions_to_histories(positions: dict) -> List['dict']:\n",
    "    history_plots = []\n",
    "    global timex\n",
    "\n",
    "    for actor_id in positions.keys():\n",
    "        actor_history = positions[actor_id]\n",
    "        xs = []\n",
    "        ys = []\n",
    "        times = []\n",
    "        for position in actor_history:\n",
    "            xs.append(position[\"x\"])\n",
    "            ys.append(position[\"y\"])\n",
    "            times.append(position[\"time\"])\n",
    "        xs = np.array(xs)\n",
    "        ys = np.array(ys)\n",
    "        times = np.array(times)\n",
    "        timex = times\n",
    "        if xs.shape[0] > 0:\n",
    "            history_plots.append({\n",
    "                \"times\": times,\n",
    "                \"xs\": xs,\n",
    "                \"ys\": ys,\n",
    "                \"actor_id\": actor_id\n",
    "            })\n",
    "    return history_plots\n",
    "\n",
    "\n",
    "def heatmap(histories: List['dict']):\n",
    "    xs,ys = [],[]\n",
    "    for index3, history in enumerate(histories):\n",
    "        if history[\"actor_id\"] in player_ids[1]:\n",
    "            for px, py in zip(history[\"xs\"], history[\"ys\"]):\n",
    "                xs.append((px * -1))\n",
    "                ys.append(py)\n",
    "\n",
    "    return xs,ys\n",
    "\n",
    "\n",
    "def history_to_heat_map(histories: List['dict']) -> np.ndarray:\n",
    "    heat_map = np.zeros(xi.shape)\n",
    "\n",
    "    for history in histories:\n",
    "        if history[\"actor_id\"] in player_ids[1]:\n",
    "            for px, py in zip(history[\"xs\"], history[\"ys\"]):\n",
    "                pxi = int((px*-1)/step) +offset\n",
    "                pyi = int(py/step)+offset\n",
    "                heat_map[pxi, pyi] += 1\n",
    "\n",
    "    return heat_map\n",
    "\n",
    "def grapher(histories: List['dict'], start, end):\n",
    "    index11 = 0\n",
    "    xs = {}\n",
    "    ys = {}\n",
    "\n",
    "    for a in range(len(player_nam)):\n",
    "        xs[a] = []\n",
    "        ys[a] = []\n",
    "    for k in range(len(player_nam)):\n",
    "\n",
    "        if vip == player_nam[k]:\n",
    "            index11 = k\n",
    "\n",
    "    indexx = 0\n",
    "    for l in range(len(player_nam)):\n",
    "        if index11 != l:\n",
    "#             if l == 6:\n",
    "            indexx += 1\n",
    "            for index3, history in enumerate(histories):\n",
    "                if history[\"actor_id\"] in player_ids[l]:\n",
    "                    for px, py, timeg in zip(history[\"xs\"], history[\"ys\"], history[\"times\"]):\n",
    "                        if start < timeg < end:\n",
    "                            xs[indexx].append((px * -1))\n",
    "                            ys[indexx].append(py)\n",
    "            \n",
    "        else:\n",
    "            for index3, history in enumerate(histories):\n",
    "                if history[\"actor_id\"] in player_ids[l]:\n",
    "                    for px, py, timeg in zip(history[\"xs\"], history[\"ys\"], history[\"times\"]):\n",
    "                        if start < timeg < end:\n",
    "                            xs[0].append((px * -1))\n",
    "                            ys[0].append(py)\n",
    "    \n",
    "    return xs, ys\n",
    "\n",
    "# print(player_ids)\n",
    "queried_replay = Replay.from_json(json.loads(df.loc[0].replay_json))\n",
    "\n",
    "car_positions = get_car_paths(queried_replay)\n",
    "# print(car_positions)\n",
    "\n",
    "car_histories = car_positions_to_histories(car_positions[0])\n",
    "# boost_histories = car_boosts_to_histories(car_boost)\n",
    "# print(player_ids)\n",
    "\n",
    "\n",
    "\n",
    "\n",
    "fig ,axs = plt.subplot_mosaic(\"BBCC;BBCC;BBCC\")\n",
    "\n",
    "\n",
    "\n",
    "\n",
    "heat = heatmap(car_histories)\n",
    "\n",
    "posx = np.array(heat[0])\n",
    "posy = np.array(heat[1])\n",
    "k = kde((posx,posy))\n",
    "pmin=-6000\n",
    "pmax=6000\n",
    "step=80\n",
    "offset = int(((pmax - pmin) / step) / 2)\n",
    "xi, yi = np.mgrid[pmin:pmax:step,pmin:pmax:step]\n",
    "zi = k(np.vstack([xi.flatten(), yi.flatten()]))\n",
    "\n",
    "heatmap = history_to_heat_map(car_histories)\n",
    "heat_map = heatmap / np.max(heatmap)\n",
    "heat_map = np.vectorize(lambda x: x**0.5)(heat_map)\n",
    "\n",
    "axs[\"C\"].pcolormesh(xi, yi, zi.reshape(xi.shape), shading=\"gouraud\", cmap=\"magma\")\n",
    "# plt.show()\n",
    "\n",
    "axs[\"B\"].pcolor(xi, yi, heat_map, cmap='seismic')\n",
    "axs[\"B\"].set_xlabel(teamord[0])\n",
    "\n",
    "extent = axs[\"C\"].get_window_extent().transformed(fig.dpi_scale_trans.inverted())\n",
    "fig.savefig(\"heatmap.png\",bbox_inches=extent,dpi=600)\n",
    "\n",
    "plt.tight_layout()\n",
    "plt.show()\n",
    "plt.close()\n",
    "\n",
    "plt.xlim(-8000, 8000)\n",
    "plt.ylim(-8000, 8000)\n",
    "plt.autoscale()\n",
    "plt.axis(\"off\")\n",
    "\n",
    "fig,axs = plt.subplot_mosaic(\"A\")\n",
    "\n",
    "img = plt.imread(\"resources/simple-pitch.png\")\n",
    "\n",
    "xxx = []\n",
    "yyy = []\n",
    "ln, = axs[\"A\"].plot(xxx, yyy)\n",
    "\n",
    "lines = []\n",
    "\n",
    "for o in range(8):\n",
    "    if o == 0:\n",
    "        lobj = axs[\"A\"].imshow(img, extent=[-4100, 4100, -6000, 6000])\n",
    "    elif o == 1:\n",
    "        lobj, = axs[\"A\"].plot([], [],color=\"green\")\n",
    "    else:\n",
    "        if teamnr == 0:\n",
    "            if player_nam[o - 1] == teamord[1] or player_nam[o - 1] == teamord[2]:\n",
    "                lobj = axs[\"A\"].plot([], [], color=\"purple\")[0]\n",
    "            elif o < 7:\n",
    "                lobj = axs[\"A\"].plot([], [], color=\"red\")[0]\n",
    "            else:\n",
    "                lobj = axs[\"A\"].plot([], [], color=\"black\")[0]\n",
    "        else:\n",
    "            if player_nam[o - 1] == teamord[1] or player_nam[o - 1] == teamord[2]:\n",
    "                lobj = axs[\"A\"].plot([], [], color=\"red\")[0]\n",
    "            elif o < 7:\n",
    "                lobj = axs[\"A\"].plot([], [], color=\"purple\")[0]\n",
    "            else:\n",
    "                lobj = axs[\"A\"].plot([], [], color=\"black\")[0]\n",
    "    lines.append(lobj)\n",
    "\n",
    "\n",
    "def init():\n",
    "    for line in lines:\n",
    "        if line is not lines[0]:\n",
    "            line.set_data([], [])\n",
    "    return lines\n",
    "\n",
    "\n",
    "match_duration = int(max([ch['times'].max() for ch in car_histories]))\n",
    "speedup = 300.0 / 50\n",
    "clip_duration = match_duration / speedup\n",
    "fps = 12\n",
    "frames = int(clip_duration * fps)\n",
    "\n",
    "\n",
    "\n",
    "def update(frame):\n",
    "    t_trail = 2\n",
    "    t_end = float(frame) / fps * speedup\n",
    "    t_start = t_end - t_trail\n",
    "    xxx, yyy = grapher(car_histories, t_start, t_end)\n",
    "\n",
    "    for lnum, line in enumerate(lines):\n",
    "        if lnum != 0:\n",
    "            line.set_data(xxx[lnum - 1], yyy[lnum - 1])\n",
    "\n",
    "    return lines\n",
    "\n",
    "\n",
    "\n",
    "print(f\"Rendering {match_duration} s match as {clip_duration} s clip ({speedup} X speed) of {frames} frames\")\n",
    "start = time.time()\n",
    "anim = FuncAnimation(fig, update, init_func=init, frames=50, interval=1000.0/fps, blit=True)\n",
    "\n",
    "# plt.show()\n",
    "video = anim.to_html5_video()\n",
    "print(f\"Rendering took {time.time() - start} s\")\n",
    "html = display.HTML(video)\n",
    "display.display(html)\n",
    "plt.close()"
   ]
  },
  {
   "cell_type": "code",
   "execution_count": 3,
   "id": "67f8f37e",
   "metadata": {
    "scrolled": false
   },
   "outputs": [
    {
     "data": {
      "application/vnd.jupyter.widget-view+json": {
       "model_id": "",
       "version_major": 2,
       "version_minor": 0
      },
      "text/plain": [
       "FloatProgress(value=0.0, bar_style='info', description='Progress:', layout=Layout(height='25px', width='50%'),…"
      ]
     },
     "metadata": {},
     "output_type": "display_data"
    },
    {
     "data": {
      "application/vnd.jupyter.widget-view+json": {
       "model_id": "35714cae6a8c4dc68c64a263a794dd2f",
       "version_major": 2,
       "version_minor": 0
      },
      "text/plain": [
       "VBox(children=(HBox(children=(HTML(value='Type:'), Button(description='Table', layout=Layout(width='70px'), st…"
      ]
     },
     "metadata": {},
     "output_type": "display_data"
    },
    {
     "data": {
      "application/vnd.jupyter.widget-view+json": {
       "model_id": "b80440942c974355baa7a353313cd2ae",
       "version_major": 2,
       "version_minor": 0
      },
      "text/plain": [
       "Output()"
      ]
     },
     "metadata": {},
     "output_type": "display_data"
    }
   ],
   "source": [
    "%%sql -o scores\n",
    "select * from `player-scores`\n",
    "where name='KrabbyPattie'OR name='visper'OR name='ItIsIThomas'"
   ]
  },
  {
   "cell_type": "code",
   "execution_count": 71,
   "id": "280d3200",
   "metadata": {
    "scrolled": false
   },
   "outputs": [
    {
     "data": {},
     "metadata": {},
     "output_type": "display_data"
    },
    {
     "data": {
      "application/vnd.holoviews_exec.v0+json": "",
      "text/html": [
       "<div id='19916'>\n",
       "  <div class=\"bk-root\" id=\"90421b89-743f-487a-8939-7cda7e49c62b\" data-root-id=\"19916\"></div>\n",
       "</div>\n",
       "<script type=\"application/javascript\">(function(root) {\n",
       "  function embed_document(root) {\n",
       "    var docs_json = {\"a1766774-e108-488e-a967-a1886f38670a\":{\"defs\":[{\"extends\":null,\"module\":null,\"name\":\"ReactiveHTML1\",\"overrides\":[],\"properties\":[]},{\"extends\":null,\"module\":null,\"name\":\"FlexBox1\",\"overrides\":[],\"properties\":[{\"default\":\"flex-start\",\"kind\":null,\"name\":\"align_content\"},{\"default\":\"flex-start\",\"kind\":null,\"name\":\"align_items\"},{\"default\":\"row\",\"kind\":null,\"name\":\"flex_direction\"},{\"default\":\"wrap\",\"kind\":null,\"name\":\"flex_wrap\"},{\"default\":\"flex-start\",\"kind\":null,\"name\":\"justify_content\"}]},{\"extends\":null,\"module\":null,\"name\":\"GridStack1\",\"overrides\":[],\"properties\":[{\"default\":\"warn\",\"kind\":null,\"name\":\"mode\"},{\"default\":null,\"kind\":null,\"name\":\"ncols\"},{\"default\":null,\"kind\":null,\"name\":\"nrows\"},{\"default\":true,\"kind\":null,\"name\":\"allow_resize\"},{\"default\":true,\"kind\":null,\"name\":\"allow_drag\"},{\"default\":[],\"kind\":null,\"name\":\"state\"}]},{\"extends\":null,\"module\":null,\"name\":\"click1\",\"overrides\":[],\"properties\":[{\"default\":\"\",\"kind\":null,\"name\":\"terminal_output\"},{\"default\":\"\",\"kind\":null,\"name\":\"debug_name\"},{\"default\":0,\"kind\":null,\"name\":\"clears\"}]},{\"extends\":null,\"module\":null,\"name\":\"NotificationAreaBase1\",\"overrides\":[],\"properties\":[{\"default\":\"bottom-right\",\"kind\":null,\"name\":\"position\"},{\"default\":0,\"kind\":null,\"name\":\"_clear\"}]},{\"extends\":null,\"module\":null,\"name\":\"NotificationArea1\",\"overrides\":[],\"properties\":[{\"default\":[],\"kind\":null,\"name\":\"notifications\"},{\"default\":\"bottom-right\",\"kind\":null,\"name\":\"position\"},{\"default\":0,\"kind\":null,\"name\":\"_clear\"},{\"default\":[{\"background\":\"#ffc107\",\"icon\":{\"className\":\"fas fa-exclamation-triangle\",\"color\":\"white\",\"tagName\":\"i\"},\"type\":\"warning\"},{\"background\":\"#007bff\",\"icon\":{\"className\":\"fas fa-info-circle\",\"color\":\"white\",\"tagName\":\"i\"},\"type\":\"info\"}],\"kind\":null,\"name\":\"types\"}]},{\"extends\":null,\"module\":null,\"name\":\"Notification\",\"overrides\":[],\"properties\":[{\"default\":null,\"kind\":null,\"name\":\"background\"},{\"default\":3000,\"kind\":null,\"name\":\"duration\"},{\"default\":null,\"kind\":null,\"name\":\"icon\"},{\"default\":\"\",\"kind\":null,\"name\":\"message\"},{\"default\":null,\"kind\":null,\"name\":\"notification_type\"},{\"default\":false,\"kind\":null,\"name\":\"_destroyed\"}]},{\"extends\":null,\"module\":null,\"name\":\"TemplateActions1\",\"overrides\":[],\"properties\":[{\"default\":0,\"kind\":null,\"name\":\"open_modal\"},{\"default\":0,\"kind\":null,\"name\":\"close_modal\"}]},{\"extends\":null,\"module\":null,\"name\":\"MaterialTemplateActions1\",\"overrides\":[],\"properties\":[{\"default\":0,\"kind\":null,\"name\":\"open_modal\"},{\"default\":0,\"kind\":null,\"name\":\"close_modal\"}]}],\"roots\":{\"references\":[{\"attributes\":{\"data\":{\"bottom\":{\"__ndarray__\":\"AAAAAADQdEAAAAAAAKBxQAAAAAAAYHJA\",\"dtype\":\"float64\",\"order\":\"little\",\"shape\":[3]},\"index\":[\"KrabbyPattie\",\"ItIsIThomas\",\"visper\"],\"top\":{\"__ndarray__\":\"AAAAAACgbkAAAAAAAKhqQAAAAAAACG5A\",\"dtype\":\"float64\",\"order\":\"little\",\"shape\":[3]}},\"selected\":{\"id\":\"20117\"},\"selection_policy\":{\"id\":\"20116\"}},\"id\":\"20018\",\"type\":\"ColumnDataSource\"},{\"attributes\":{\"columns\":[{\"id\":\"20071\"},{\"id\":\"20076\"},{\"id\":\"20081\"},{\"id\":\"20086\"},{\"id\":\"20091\"}],\"height\":100,\"reorderable\":false,\"source\":{\"id\":\"20067\"},\"view\":{\"id\":\"20096\"},\"width\":400},\"id\":\"20094\",\"type\":\"DataTable\"},{\"attributes\":{},\"id\":\"20074\",\"type\":\"NumberFormatter\"},{\"attributes\":{\"bottom_units\":\"screen\",\"coordinates\":null,\"fill_alpha\":0.5,\"fill_color\":\"lightgrey\",\"group\":null,\"left_units\":\"screen\",\"level\":\"overlay\",\"line_alpha\":1.0,\"line_color\":\"black\",\"line_dash\":[4,4],\"line_width\":2,\"right_units\":\"screen\",\"syncable\":false,\"top_units\":\"screen\"},\"id\":\"19941\",\"type\":\"BoxAnnotation\"},{\"attributes\":{\"coordinates\":null,\"data_source\":{\"id\":\"19980\"},\"glyph\":{\"id\":\"19982\"},\"group\":null,\"hover_glyph\":null,\"muted_glyph\":{\"id\":\"19984\"},\"nonselection_glyph\":{\"id\":\"19983\"},\"selection_glyph\":{\"id\":\"19987\"},\"view\":{\"id\":\"19986\"}},\"id\":\"19985\",\"type\":\"GlyphRenderer\"},{\"attributes\":{\"x0\":{\"field\":\"x0\"},\"x1\":{\"field\":\"x1\"},\"y0\":{\"field\":\"y0\"},\"y1\":{\"field\":\"y1\"}},\"id\":\"19982\",\"type\":\"Segment\"},{\"attributes\":{\"data\":{\"x0\":[[\"KrabbyPattie\",-0.2],[\"ItIsIThomas\",-0.2],[\"visper\",-0.2]],\"x1\":[[\"KrabbyPattie\",0.2],[\"ItIsIThomas\",0.2],[\"visper\",0.2]],\"y0\":[175,170,209],\"y1\":[175,170,209]},\"selected\":{\"id\":\"20009\"},\"selection_policy\":{\"id\":\"20008\"}},\"id\":\"19972\",\"type\":\"ColumnDataSource\"},{\"attributes\":{\"source\":{\"id\":\"19980\"}},\"id\":\"19986\",\"type\":\"CDSView\"},{\"attributes\":{\"line_alpha\":{\"value\":1.0},\"line_cap\":{\"value\":\"butt\"},\"line_color\":{\"value\":\"black\"},\"line_dash\":{\"value\":[]},\"line_dash_offset\":{\"value\":0},\"line_join\":{\"value\":\"bevel\"},\"line_width\":{\"value\":1},\"x0\":{\"field\":\"x0\"},\"x1\":{\"field\":\"x1\"},\"y0\":{\"field\":\"y0\"},\"y1\":{\"field\":\"y1\"}},\"id\":\"19979\",\"type\":\"Segment\"},{\"attributes\":{\"line_alpha\":{\"value\":0.1},\"x0\":{\"field\":\"x0\"},\"x1\":{\"field\":\"x1\"},\"y0\":{\"field\":\"y0\"},\"y1\":{\"field\":\"y1\"}},\"id\":\"19983\",\"type\":\"Segment\"},{\"attributes\":{\"x0\":{\"field\":\"x0\"},\"x1\":{\"field\":\"x1\"},\"y0\":{\"field\":\"y0\"},\"y1\":{\"field\":\"y1\"}},\"id\":\"19958\",\"type\":\"Segment\"},{\"attributes\":{\"editor\":{\"id\":\"20035\"},\"field\":\"match_id\",\"formatter\":{\"id\":\"20034\"},\"title\":\"match_id\"},\"id\":\"20036\",\"type\":\"TableColumn\"},{\"attributes\":{},\"id\":\"19998\",\"type\":\"AllLabels\"},{\"attributes\":{},\"id\":\"19997\",\"type\":\"BasicTickFormatter\"},{\"attributes\":{\"fill_alpha\":{\"value\":0.2},\"fill_color\":{\"value\":\"black\"},\"hatch_alpha\":{\"value\":0.2},\"line_alpha\":{\"value\":0.2},\"x\":{\"field\":\"index\"},\"y\":{\"field\":\"score\"}},\"id\":\"19952\",\"type\":\"Circle\"},{\"attributes\":{\"bottom\":{\"field\":\"bottom\"},\"fill_color\":{\"value\":\"#30a2da\"},\"top\":{\"field\":\"top\"},\"width\":{\"value\":0.7},\"x\":{\"field\":\"index\"}},\"id\":\"19990\",\"type\":\"VBar\"},{\"attributes\":{\"fill_color\":{\"value\":\"black\"},\"x\":{\"field\":\"index\"},\"y\":{\"field\":\"score\"}},\"id\":\"19950\",\"type\":\"Circle\"},{\"attributes\":{\"coordinates\":null,\"data_source\":{\"id\":\"19988\"},\"glyph\":{\"id\":\"19990\"},\"group\":null,\"hover_glyph\":null,\"muted_glyph\":{\"id\":\"19992\"},\"nonselection_glyph\":{\"id\":\"19991\"},\"selection_glyph\":{\"id\":\"20017\"},\"view\":{\"id\":\"19994\"}},\"id\":\"19993\",\"type\":\"GlyphRenderer\"},{\"attributes\":{},\"id\":\"20000\",\"type\":\"CategoricalTickFormatter\"},{\"attributes\":{\"bottom\":{\"field\":\"bottom\"},\"fill_alpha\":{\"value\":0.2},\"fill_color\":{\"value\":\"#30a2da\"},\"hatch_alpha\":{\"value\":0.2},\"line_alpha\":{\"value\":0.2},\"top\":{\"field\":\"top\"},\"width\":{\"value\":0.7},\"x\":{\"field\":\"index\"}},\"id\":\"19992\",\"type\":\"VBar\"},{\"attributes\":{\"data\":{\"x0\":[\"KrabbyPattie\",\"ItIsIThomas\",\"visper\"],\"x1\":[\"KrabbyPattie\",\"ItIsIThomas\",\"visper\"],\"y0\":[175,170,209],\"y1\":{\"__ndarray__\":\"AAAAAACgbkAAAAAAAKhqQAAAAAAACG5A\",\"dtype\":\"float64\",\"order\":\"little\",\"shape\":[3]}},\"selected\":{\"id\":\"20007\"},\"selection_policy\":{\"id\":\"20006\"}},\"id\":\"19964\",\"type\":\"ColumnDataSource\"},{\"attributes\":{\"margin\":[5,5,5,5],\"name\":\"HSpacer19932\",\"sizing_mode\":\"stretch_width\"},\"id\":\"20154\",\"type\":\"Spacer\"},{\"attributes\":{},\"id\":\"20001\",\"type\":\"AllLabels\"},{\"attributes\":{},\"id\":\"20120\",\"type\":\"UnionRenderers\"},{\"attributes\":{\"coordinates\":null,\"group\":null,\"items\":[]},\"id\":\"20015\",\"type\":\"Legend\"},{\"attributes\":{\"children\":[{\"id\":\"19917\"},{\"id\":\"20127\"},{\"id\":\"20154\"}],\"margin\":[0,0,0,0],\"name\":\"Row19927\",\"tags\":[\"embedded\"]},\"id\":\"19916\",\"type\":\"Row\"},{\"attributes\":{\"bottom\":{\"field\":\"bottom\"},\"fill_alpha\":{\"value\":0.1},\"fill_color\":{\"value\":\"#30a2da\"},\"hatch_alpha\":{\"value\":0.1},\"line_alpha\":{\"value\":0.1},\"top\":{\"field\":\"top\"},\"width\":{\"value\":0.7},\"x\":{\"field\":\"index\"}},\"id\":\"19991\",\"type\":\"VBar\"},{\"attributes\":{\"margin\":[5,5,5,5],\"name\":\"HSpacer19931\",\"sizing_mode\":\"stretch_width\"},\"id\":\"19917\",\"type\":\"Spacer\"},{\"attributes\":{\"coordinates\":null,\"data_source\":{\"id\":\"19948\"},\"glyph\":{\"id\":\"19950\"},\"group\":null,\"hover_glyph\":null,\"muted_glyph\":{\"id\":\"19952\"},\"nonselection_glyph\":{\"id\":\"19951\"},\"selection_glyph\":{\"id\":\"19955\"},\"view\":{\"id\":\"19954\"}},\"id\":\"19953\",\"type\":\"GlyphRenderer\"},{\"attributes\":{\"editor\":{\"id\":\"20055\"},\"field\":\"shots\",\"formatter\":{\"id\":\"20054\"},\"title\":\"shots\"},\"id\":\"20056\",\"type\":\"TableColumn\"},{\"attributes\":{\"line_alpha\":{\"value\":1.0},\"line_cap\":{\"value\":\"butt\"},\"line_color\":{\"value\":\"black\"},\"line_dash\":{\"value\":[]},\"line_dash_offset\":{\"value\":0},\"line_join\":{\"value\":\"bevel\"},\"line_width\":{\"value\":1},\"x0\":{\"field\":\"x0\"},\"x1\":{\"field\":\"x1\"},\"y0\":{\"field\":\"y0\"},\"y1\":{\"field\":\"y1\"}},\"id\":\"19963\",\"type\":\"Segment\"},{\"attributes\":{\"bottom\":{\"field\":\"bottom\"},\"fill_alpha\":{\"value\":1.0},\"fill_color\":{\"value\":\"#30a2da\"},\"hatch_alpha\":{\"value\":1.0},\"hatch_color\":{\"value\":\"black\"},\"hatch_scale\":{\"value\":12.0},\"hatch_weight\":{\"value\":1.0},\"line_alpha\":{\"value\":1.0},\"line_cap\":{\"value\":\"butt\"},\"line_color\":{\"value\":\"black\"},\"line_dash\":{\"value\":[]},\"line_dash_offset\":{\"value\":0},\"line_join\":{\"value\":\"bevel\"},\"line_width\":{\"value\":1},\"top\":{\"field\":\"top\"},\"width\":{\"value\":0.7},\"x\":{\"field\":\"index\"}},\"id\":\"20017\",\"type\":\"VBar\"},{\"attributes\":{},\"id\":\"20079\",\"type\":\"NumberFormatter\"},{\"attributes\":{\"editor\":{\"id\":\"20075\"},\"field\":\"total_points\",\"formatter\":{\"id\":\"20074\"},\"title\":\"total points\"},\"id\":\"20076\",\"type\":\"TableColumn\"},{\"attributes\":{\"line_alpha\":{\"value\":1.0},\"line_cap\":{\"value\":\"butt\"},\"line_color\":{\"value\":\"black\"},\"line_dash\":{\"value\":[]},\"line_dash_offset\":{\"value\":0},\"line_join\":{\"value\":\"bevel\"},\"line_width\":{\"value\":1},\"x0\":{\"field\":\"x0\"},\"x1\":{\"field\":\"x1\"},\"y0\":{\"field\":\"y0\"},\"y1\":{\"field\":\"y1\"}},\"id\":\"19971\",\"type\":\"Segment\"},{\"attributes\":{\"coordinates\":null,\"data_source\":{\"id\":\"19956\"},\"glyph\":{\"id\":\"19958\"},\"group\":null,\"hover_glyph\":null,\"muted_glyph\":{\"id\":\"19960\"},\"nonselection_glyph\":{\"id\":\"19959\"},\"selection_glyph\":{\"id\":\"19963\"},\"view\":{\"id\":\"19962\"}},\"id\":\"19961\",\"type\":\"GlyphRenderer\"},{\"attributes\":{\"source\":{\"id\":\"20018\"}},\"id\":\"20024\",\"type\":\"CDSView\"},{\"attributes\":{},\"id\":\"20002\",\"type\":\"UnionRenderers\"},{\"attributes\":{\"line_alpha\":{\"value\":1.0},\"line_cap\":{\"value\":\"butt\"},\"line_color\":{\"value\":\"black\"},\"line_dash\":{\"value\":[]},\"line_dash_offset\":{\"value\":0},\"line_join\":{\"value\":\"bevel\"},\"line_width\":{\"value\":1},\"x0\":{\"field\":\"x0\"},\"x1\":{\"field\":\"x1\"},\"y0\":{\"field\":\"y0\"},\"y1\":{\"field\":\"y1\"}},\"id\":\"19987\",\"type\":\"Segment\"},{\"attributes\":{},\"id\":\"20003\",\"type\":\"Selection\"},{\"attributes\":{\"line_alpha\":{\"value\":0.2},\"x0\":{\"field\":\"x0\"},\"x1\":{\"field\":\"x1\"},\"y0\":{\"field\":\"y0\"},\"y1\":{\"field\":\"y1\"}},\"id\":\"19960\",\"type\":\"Segment\"},{\"attributes\":{\"angle\":{\"value\":0.0},\"fill_alpha\":{\"value\":1.0},\"fill_color\":{\"value\":\"black\"},\"hatch_alpha\":{\"value\":1.0},\"hatch_color\":{\"value\":\"black\"},\"hatch_scale\":{\"value\":12.0},\"hatch_weight\":{\"value\":1.0},\"line_alpha\":{\"value\":1.0},\"line_cap\":{\"value\":\"butt\"},\"line_color\":{\"value\":\"black\"},\"line_dash\":{\"value\":[]},\"line_dash_offset\":{\"value\":0},\"line_join\":{\"value\":\"bevel\"},\"line_width\":{\"value\":1},\"size\":{\"value\":4},\"x\":{\"field\":\"index\"},\"y\":{\"field\":\"score\"}},\"id\":\"19955\",\"type\":\"Circle\"},{\"attributes\":{\"fill_alpha\":{\"value\":0.1},\"fill_color\":{\"value\":\"black\"},\"hatch_alpha\":{\"value\":0.1},\"line_alpha\":{\"value\":0.1},\"x\":{\"field\":\"index\"},\"y\":{\"field\":\"score\"}},\"id\":\"19951\",\"type\":\"Circle\"},{\"attributes\":{},\"id\":\"20004\",\"type\":\"UnionRenderers\"},{\"attributes\":{\"source\":{\"id\":\"20067\"}},\"id\":\"20096\",\"type\":\"CDSView\"},{\"attributes\":{},\"id\":\"20005\",\"type\":\"Selection\"},{\"attributes\":{\"source\":{\"id\":\"19948\"}},\"id\":\"19954\",\"type\":\"CDSView\"},{\"attributes\":{\"data\":{\"x0\":[\"KrabbyPattie\",\"ItIsIThomas\",\"visper\"],\"x1\":[\"KrabbyPattie\",\"ItIsIThomas\",\"visper\"],\"y0\":[452,560,570],\"y1\":{\"__ndarray__\":\"AAAAAADwd0AAAAAAAPB3QAAAAAAAnH9A\",\"dtype\":\"float64\",\"order\":\"little\",\"shape\":[3]}},\"selected\":{\"id\":\"20005\"},\"selection_policy\":{\"id\":\"20004\"}},\"id\":\"19956\",\"type\":\"ColumnDataSource\"},{\"attributes\":{\"editor\":{\"id\":\"20080\"},\"field\":\"total_shots\",\"formatter\":{\"id\":\"20079\"},\"title\":\"total shots\"},\"id\":\"20081\",\"type\":\"TableColumn\"},{\"attributes\":{\"editor\":{\"id\":\"20070\"},\"field\":\"total_goals\",\"formatter\":{\"id\":\"20069\"},\"title\":\"total goals\"},\"id\":\"20071\",\"type\":\"TableColumn\"},{\"attributes\":{},\"id\":\"20006\",\"type\":\"UnionRenderers\"},{\"attributes\":{},\"id\":\"20089\",\"type\":\"NumberFormatter\"},{\"attributes\":{},\"id\":\"20007\",\"type\":\"Selection\"},{\"attributes\":{},\"id\":\"20084\",\"type\":\"NumberFormatter\"},{\"attributes\":{},\"id\":\"20080\",\"type\":\"IntEditor\"},{\"attributes\":{\"data\":{\"assists\":[1,2,0,1,2,1,1,0,1,0,0,2,0,1,0],\"goals\":[1,1,3,0,0,1,0,1,0,0,0,0,1,1,1],\"match_id\":[\"CA758A4F4BB592F2A6F124B97BE2FEE7\",\"19A14BEF42EFFA23688C139562EC27AF\",\"E5B590764DA8F4C0E078ECBE31D68D01\",\"C0B836B64B3EB849DD87FCB6681529B1\",\"1314DE814C19D0902F1829BEF13892D9\",\"2D9559FB4928ED80E5F1D48DDA3AA8E2\",\"7D15CA2D4F14F39085AC1D89AD9E9765\",\"5254DC024AAFA362807A44AC283804BC\",\"6F2A80BC4197946E058672A658C10069\",\"DF23AC9C459DB2DAB126DA825631338C\",\"19FD44054DAF92047720E6B763634875\",\"3A64B10146098F670261EB84A120E57A\",\"390B696C49EFE6AE28DE5A83B48ACC9E\",\"F360DF534BD60D2D0271FCB4A9C14ACA\",\"BD48198C491687B9970904A653736CCA\"],\"saves\":[2,1,4,2,1,1,1,2,1,1,2,3,2,1,0],\"score\":[388,424,750,220,333,262,192,378,244,175,247,452,347,360,246],\"shots\":[3,4,4,0,2,3,0,1,0,1,3,1,1,4,3]},\"selected\":{\"id\":\"20033\"},\"selection_policy\":{\"id\":\"20120\"}},\"id\":\"20032\",\"type\":\"ColumnDataSource\"},{\"attributes\":{\"bottom\":{\"field\":\"bottom\"},\"fill_color\":{\"value\":\"#30a2da\"},\"top\":{\"field\":\"top\"},\"width\":{\"value\":0.7},\"x\":{\"field\":\"index\"}},\"id\":\"20020\",\"type\":\"VBar\"},{\"attributes\":{\"coordinates\":null,\"data_source\":{\"id\":\"20018\"},\"glyph\":{\"id\":\"20020\"},\"group\":null,\"hover_glyph\":null,\"muted_glyph\":{\"id\":\"20022\"},\"nonselection_glyph\":{\"id\":\"20021\"},\"selection_glyph\":{\"id\":\"20025\"},\"view\":{\"id\":\"20024\"}},\"id\":\"20023\",\"type\":\"GlyphRenderer\"},{\"attributes\":{},\"id\":\"20122\",\"type\":\"UnionRenderers\"},{\"attributes\":{\"children\":[[{\"id\":\"19920\"},0,0],[{\"id\":\"20064\"},0,1],[{\"id\":\"20094\"},1,0]]},\"id\":\"20124\",\"type\":\"GridBox\"},{\"attributes\":{},\"id\":\"20008\",\"type\":\"UnionRenderers\"},{\"attributes\":{\"bottom\":{\"field\":\"bottom\"},\"fill_alpha\":{\"value\":0.2},\"fill_color\":{\"value\":\"#30a2da\"},\"hatch_alpha\":{\"value\":0.2},\"line_alpha\":{\"value\":0.2},\"top\":{\"field\":\"top\"},\"width\":{\"value\":0.7},\"x\":{\"field\":\"index\"}},\"id\":\"20022\",\"type\":\"VBar\"},{\"attributes\":{\"line_alpha\":{\"value\":0.2},\"x0\":{\"field\":\"x0\"},\"x1\":{\"field\":\"x1\"},\"y0\":{\"field\":\"y0\"},\"y1\":{\"field\":\"y1\"}},\"id\":\"19968\",\"type\":\"Segment\"},{\"attributes\":{},\"id\":\"20009\",\"type\":\"Selection\"},{\"attributes\":{\"editor\":{\"id\":\"20085\"},\"field\":\"total_saves\",\"formatter\":{\"id\":\"20084\"},\"title\":\"total saves\"},\"id\":\"20086\",\"type\":\"TableColumn\"},{\"attributes\":{\"source\":{\"id\":\"19956\"}},\"id\":\"19962\",\"type\":\"CDSView\"},{\"attributes\":{\"line_alpha\":{\"value\":0.1},\"x0\":{\"field\":\"x0\"},\"x1\":{\"field\":\"x1\"},\"y0\":{\"field\":\"y0\"},\"y1\":{\"field\":\"y1\"}},\"id\":\"19959\",\"type\":\"Segment\"},{\"attributes\":{\"bottom\":{\"field\":\"bottom\"},\"fill_alpha\":{\"value\":1.0},\"fill_color\":{\"value\":\"#30a2da\"},\"hatch_alpha\":{\"value\":1.0},\"hatch_color\":{\"value\":\"black\"},\"hatch_scale\":{\"value\":12.0},\"hatch_weight\":{\"value\":1.0},\"line_alpha\":{\"value\":1.0},\"line_cap\":{\"value\":\"butt\"},\"line_color\":{\"value\":\"black\"},\"line_dash\":{\"value\":[]},\"line_dash_offset\":{\"value\":0},\"line_join\":{\"value\":\"bevel\"},\"line_width\":{\"value\":1},\"top\":{\"field\":\"top\"},\"width\":{\"value\":0.7},\"x\":{\"field\":\"index\"}},\"id\":\"20025\",\"type\":\"VBar\"},{\"attributes\":{\"data\":{\"x0\":[[\"KrabbyPattie\",-0.2],[\"ItIsIThomas\",-0.2],[\"visper\",-0.2]],\"x1\":[[\"KrabbyPattie\",0.2],[\"ItIsIThomas\",0.2],[\"visper\",0.2]],\"y0\":[452,560,570],\"y1\":[452,560,570]},\"selected\":{\"id\":\"20011\"},\"selection_policy\":{\"id\":\"20010\"}},\"id\":\"19980\",\"type\":\"ColumnDataSource\"},{\"attributes\":{\"axis\":{\"id\":\"19932\"},\"coordinates\":null,\"dimension\":1,\"grid_line_color\":null,\"group\":null,\"ticker\":null},\"id\":\"19935\",\"type\":\"Grid\"},{\"attributes\":{\"bottom\":{\"field\":\"bottom\"},\"fill_alpha\":{\"value\":0.1},\"fill_color\":{\"value\":\"#30a2da\"},\"hatch_alpha\":{\"value\":0.1},\"line_alpha\":{\"value\":0.1},\"top\":{\"field\":\"top\"},\"width\":{\"value\":0.7},\"x\":{\"field\":\"index\"}},\"id\":\"20021\",\"type\":\"VBar\"},{\"attributes\":{},\"id\":\"20085\",\"type\":\"IntEditor\"},{\"attributes\":{},\"id\":\"20090\",\"type\":\"IntEditor\"},{\"attributes\":{},\"id\":\"20060\",\"type\":\"IntEditor\"},{\"attributes\":{\"coordinates\":null,\"data_source\":{\"id\":\"19964\"},\"glyph\":{\"id\":\"19966\"},\"group\":null,\"hover_glyph\":null,\"muted_glyph\":{\"id\":\"19968\"},\"nonselection_glyph\":{\"id\":\"19967\"},\"selection_glyph\":{\"id\":\"19971\"},\"view\":{\"id\":\"19970\"}},\"id\":\"19969\",\"type\":\"GlyphRenderer\"},{\"attributes\":{},\"id\":\"20010\",\"type\":\"UnionRenderers\"},{\"attributes\":{\"axis_label\":\"name\",\"coordinates\":null,\"formatter\":{\"id\":\"20000\"},\"group\":null,\"major_label_policy\":{\"id\":\"20001\"},\"ticker\":{\"id\":\"19930\"}},\"id\":\"19929\",\"type\":\"CategoricalAxis\"},{\"attributes\":{\"x0\":{\"field\":\"x0\"},\"x1\":{\"field\":\"x1\"},\"y0\":{\"field\":\"y0\"},\"y1\":{\"field\":\"y1\"}},\"id\":\"19966\",\"type\":\"Segment\"},{\"attributes\":{\"factors\":[\"KrabbyPattie\",\"ItIsIThomas\",\"visper\"],\"tags\":[[[\"name\",\"name\",null]]]},\"id\":\"19918\",\"type\":\"FactorRange\"},{\"attributes\":{},\"id\":\"20069\",\"type\":\"NumberFormatter\"},{\"attributes\":{},\"id\":\"20068\",\"type\":\"Selection\"},{\"attributes\":{\"below\":[{\"id\":\"19929\"}],\"center\":[{\"id\":\"19931\"},{\"id\":\"19935\"},{\"id\":\"20015\"}],\"height\":400,\"left\":[{\"id\":\"19932\"}],\"margin\":null,\"min_border_bottom\":10,\"min_border_left\":10,\"min_border_right\":10,\"min_border_top\":10,\"renderers\":[{\"id\":\"19953\"},{\"id\":\"19961\"},{\"id\":\"19969\"},{\"id\":\"19977\"},{\"id\":\"19985\"},{\"id\":\"19993\"},{\"id\":\"20023\"}],\"sizing_mode\":\"fixed\",\"title\":{\"id\":\"19921\"},\"toolbar\":{\"id\":\"19942\"},\"toolbar_location\":null,\"width\":300,\"x_range\":{\"id\":\"19918\"},\"x_scale\":{\"id\":\"19925\"},\"y_range\":{\"id\":\"19919\"},\"y_scale\":{\"id\":\"19927\"}},\"id\":\"19920\",\"subtype\":\"Figure\",\"type\":\"Plot\"},{\"attributes\":{},\"id\":\"20011\",\"type\":\"Selection\"},{\"attributes\":{},\"id\":\"20116\",\"type\":\"UnionRenderers\"},{\"attributes\":{\"editor\":{\"id\":\"20090\"},\"field\":\"total_assists\",\"formatter\":{\"id\":\"20089\"},\"title\":\"total assists\"},\"id\":\"20091\",\"type\":\"TableColumn\"},{\"attributes\":{\"source\":{\"id\":\"19988\"}},\"id\":\"19994\",\"type\":\"CDSView\"},{\"attributes\":{},\"id\":\"20075\",\"type\":\"IntEditor\"},{\"attributes\":{\"data\":{\"total_assists\":[12],\"total_goals\":[10],\"total_points\":[5018],\"total_saves\":[24],\"total_shots\":[30]},\"selected\":{\"id\":\"20068\"},\"selection_policy\":{\"id\":\"20122\"}},\"id\":\"20067\",\"type\":\"ColumnDataSource\"},{\"attributes\":{\"line_alpha\":{\"value\":0.2},\"x0\":{\"field\":\"x0\"},\"x1\":{\"field\":\"x1\"},\"y0\":{\"field\":\"y0\"},\"y1\":{\"field\":\"y1\"}},\"id\":\"19976\",\"type\":\"Segment\"},{\"attributes\":{\"editor\":{\"id\":\"20050\"},\"field\":\"assists\",\"formatter\":{\"id\":\"20049\"},\"title\":\"assists\"},\"id\":\"20051\",\"type\":\"TableColumn\"},{\"attributes\":{},\"id\":\"20012\",\"type\":\"UnionRenderers\"},{\"attributes\":{},\"id\":\"20070\",\"type\":\"IntEditor\"},{\"attributes\":{\"editor\":{\"id\":\"20060\"},\"field\":\"saves\",\"formatter\":{\"id\":\"20059\"},\"title\":\"saves\"},\"id\":\"20061\",\"type\":\"TableColumn\"},{\"attributes\":{\"source\":{\"id\":\"19964\"}},\"id\":\"19970\",\"type\":\"CDSView\"},{\"attributes\":{\"line_alpha\":{\"value\":0.1},\"x0\":{\"field\":\"x0\"},\"x1\":{\"field\":\"x1\"},\"y0\":{\"field\":\"y0\"},\"y1\":{\"field\":\"y1\"}},\"id\":\"19967\",\"type\":\"Segment\"},{\"attributes\":{},\"id\":\"20013\",\"type\":\"Selection\"},{\"attributes\":{},\"id\":\"20050\",\"type\":\"IntEditor\"},{\"attributes\":{},\"id\":\"19937\",\"type\":\"PanTool\"},{\"attributes\":{\"data\":{\"bottom\":{\"__ndarray__\":\"AAAAAADwd0AAAAAAAPB3QAAAAAAAnH9A\",\"dtype\":\"float64\",\"order\":\"little\",\"shape\":[3]},\"index\":[\"KrabbyPattie\",\"ItIsIThomas\",\"visper\"],\"top\":{\"__ndarray__\":\"AAAAAADQdEAAAAAAAKBxQAAAAAAAYHJA\",\"dtype\":\"float64\",\"order\":\"little\",\"shape\":[3]}},\"selected\":{\"id\":\"20013\"},\"selection_policy\":{\"id\":\"20012\"}},\"id\":\"19988\",\"type\":\"ColumnDataSource\"},{\"attributes\":{},\"id\":\"20055\",\"type\":\"IntEditor\"},{\"attributes\":{\"source\":{\"id\":\"20032\"}},\"id\":\"20066\",\"type\":\"CDSView\"},{\"attributes\":{},\"id\":\"20059\",\"type\":\"NumberFormatter\"},{\"attributes\":{},\"id\":\"19925\",\"type\":\"CategoricalScale\"},{\"attributes\":{},\"id\":\"20049\",\"type\":\"NumberFormatter\"},{\"attributes\":{\"editor\":{\"id\":\"20040\"},\"field\":\"score\",\"formatter\":{\"id\":\"20039\"},\"title\":\"score\"},\"id\":\"20041\",\"type\":\"TableColumn\"},{\"attributes\":{\"axis\":{\"id\":\"19929\"},\"coordinates\":null,\"grid_line_color\":null,\"group\":null,\"ticker\":null},\"id\":\"19931\",\"type\":\"Grid\"},{\"attributes\":{\"coordinates\":null,\"data_source\":{\"id\":\"19972\"},\"glyph\":{\"id\":\"19974\"},\"group\":null,\"hover_glyph\":null,\"muted_glyph\":{\"id\":\"19976\"},\"nonselection_glyph\":{\"id\":\"19975\"},\"selection_glyph\":{\"id\":\"19979\"},\"view\":{\"id\":\"19978\"}},\"id\":\"19977\",\"type\":\"GlyphRenderer\"},{\"attributes\":{},\"id\":\"20034\",\"type\":\"StringFormatter\"},{\"attributes\":{},\"id\":\"20035\",\"type\":\"StringEditor\"},{\"attributes\":{},\"id\":\"19927\",\"type\":\"LinearScale\"},{\"attributes\":{\"editor\":{\"id\":\"20045\"},\"field\":\"goals\",\"formatter\":{\"id\":\"20044\"},\"title\":\"goals\"},\"id\":\"20046\",\"type\":\"TableColumn\"},{\"attributes\":{\"toolbars\":[{\"id\":\"19942\"}],\"tools\":[{\"id\":\"19936\"},{\"id\":\"19937\"},{\"id\":\"19938\"},{\"id\":\"19939\"},{\"id\":\"19940\"}]},\"id\":\"20125\",\"type\":\"ProxyToolbar\"},{\"attributes\":{\"x0\":{\"field\":\"x0\"},\"x1\":{\"field\":\"x1\"},\"y0\":{\"field\":\"y0\"},\"y1\":{\"field\":\"y1\"}},\"id\":\"19974\",\"type\":\"Segment\"},{\"attributes\":{\"columns\":[{\"id\":\"20036\"},{\"id\":\"20041\"},{\"id\":\"20046\"},{\"id\":\"20051\"},{\"id\":\"20056\"},{\"id\":\"20061\"}],\"height\":300,\"reorderable\":false,\"source\":{\"id\":\"20032\"},\"view\":{\"id\":\"20066\"},\"width\":500},\"id\":\"20064\",\"type\":\"DataTable\"},{\"attributes\":{\"toolbar\":{\"id\":\"20125\"},\"toolbar_location\":\"above\"},\"id\":\"20126\",\"type\":\"ToolbarBox\"},{\"attributes\":{},\"id\":\"20045\",\"type\":\"IntEditor\"},{\"attributes\":{\"coordinates\":null,\"group\":null,\"text\":\"Players score distribution\",\"text_color\":\"black\",\"text_font_size\":\"12pt\"},\"id\":\"19921\",\"type\":\"Title\"},{\"attributes\":{},\"id\":\"20054\",\"type\":\"NumberFormatter\"},{\"attributes\":{\"axis_label\":\"score\",\"coordinates\":null,\"formatter\":{\"id\":\"19997\"},\"group\":null,\"major_label_policy\":{\"id\":\"19998\"},\"ticker\":{\"id\":\"19933\"}},\"id\":\"19932\",\"type\":\"LinearAxis\"},{\"attributes\":{},\"id\":\"20039\",\"type\":\"NumberFormatter\"},{\"attributes\":{\"children\":[{\"id\":\"20126\"},{\"id\":\"20124\"}]},\"id\":\"20127\",\"type\":\"Column\"},{\"attributes\":{},\"id\":\"19930\",\"type\":\"CategoricalTicker\"},{\"attributes\":{\"end\":793.5,\"reset_end\":793.5,\"reset_start\":126.5,\"start\":126.5,\"tags\":[[[\"score\",\"score\",null]]]},\"id\":\"19919\",\"type\":\"Range1d\"},{\"attributes\":{},\"id\":\"19933\",\"type\":\"BasicTicker\"},{\"attributes\":{},\"id\":\"20033\",\"type\":\"Selection\"},{\"attributes\":{},\"id\":\"19938\",\"type\":\"WheelZoomTool\"},{\"attributes\":{},\"id\":\"20117\",\"type\":\"Selection\"},{\"attributes\":{\"line_alpha\":{\"value\":0.2},\"x0\":{\"field\":\"x0\"},\"x1\":{\"field\":\"x1\"},\"y0\":{\"field\":\"y0\"},\"y1\":{\"field\":\"y1\"}},\"id\":\"19984\",\"type\":\"Segment\"},{\"attributes\":{\"tools\":[{\"id\":\"19936\"},{\"id\":\"19937\"},{\"id\":\"19938\"},{\"id\":\"19939\"},{\"id\":\"19940\"}]},\"id\":\"19942\",\"type\":\"Toolbar\"},{\"attributes\":{},\"id\":\"19936\",\"type\":\"SaveTool\"},{\"attributes\":{},\"id\":\"20044\",\"type\":\"NumberFormatter\"},{\"attributes\":{\"data\":{\"index\":[\"KrabbyPattie\"],\"score\":[750]},\"selected\":{\"id\":\"20003\"},\"selection_policy\":{\"id\":\"20002\"}},\"id\":\"19948\",\"type\":\"ColumnDataSource\"},{\"attributes\":{\"source\":{\"id\":\"19972\"}},\"id\":\"19978\",\"type\":\"CDSView\"},{\"attributes\":{\"overlay\":{\"id\":\"19941\"}},\"id\":\"19939\",\"type\":\"BoxZoomTool\"},{\"attributes\":{\"line_alpha\":{\"value\":0.1},\"x0\":{\"field\":\"x0\"},\"x1\":{\"field\":\"x1\"},\"y0\":{\"field\":\"y0\"},\"y1\":{\"field\":\"y1\"}},\"id\":\"19975\",\"type\":\"Segment\"},{\"attributes\":{},\"id\":\"19940\",\"type\":\"ResetTool\"},{\"attributes\":{},\"id\":\"20040\",\"type\":\"IntEditor\"}],\"root_ids\":[\"19916\"]},\"title\":\"Bokeh Application\",\"version\":\"2.4.3\"}};\n",
       "    var render_items = [{\"docid\":\"a1766774-e108-488e-a967-a1886f38670a\",\"root_ids\":[\"19916\"],\"roots\":{\"19916\":\"90421b89-743f-487a-8939-7cda7e49c62b\"}}];\n",
       "    root.Bokeh.embed.embed_items_notebook(docs_json, render_items);\n",
       "    for (const render_item of render_items) {\n",
       "      for (const root_id of render_item.root_ids) {\n",
       "\tconst id_el = document.getElementById(root_id)\n",
       "\tif (id_el.children.length && (id_el.children[0].className === 'bk-root')) {\n",
       "\t  const root_el = id_el.children[0]\n",
       "\t  root_el.id = root_el.id + '-rendered'\n",
       "\t}\n",
       "      }\n",
       "    }\n",
       "  }\n",
       "  if (root.Bokeh !== undefined && root.Bokeh.Panel !== undefined) {\n",
       "    embed_document(root);\n",
       "  } else {\n",
       "    var attempts = 0;\n",
       "    var timer = setInterval(function(root) {\n",
       "      if (root.Bokeh !== undefined && root.Bokeh.Panel !== undefined) {\n",
       "        clearInterval(timer);\n",
       "        embed_document(root);\n",
       "      } else if (document.readyState == \"complete\") {\n",
       "        attempts++;\n",
       "        if (attempts > 200) {\n",
       "          clearInterval(timer);\n",
       "          console.log(\"Bokeh: ERROR: Unable to run BokehJS code because BokehJS library is missing\");\n",
       "        }\n",
       "      }\n",
       "    }, 25, root)\n",
       "  }\n",
       "})(window);</script>"
      ],
      "text/plain": [
       ":Layout\n",
       "   .BoxWhisker.I :BoxWhisker   [name]   (score)\n",
       "   .Table.I      :Table   [match_id,score,goals,assists,shots,saves]\n",
       "   .Table.II     :Table   [total goals,total points,total shots,total saves,total assists]"
      ]
     },
     "execution_count": 71,
     "metadata": {
      "application/vnd.holoviews_exec.v0+json": {
       "id": "19916"
      }
     },
     "output_type": "execute_result"
    }
   ],
   "source": [
    "%%local\n",
    "import numpy as np\n",
    "\n",
    "import pandas as pd\n",
    "import hvplot.pandas ,holoviews as hv\n",
    "name = scores[\"name\"].isin([\"KrabbyPattie\"])\n",
    "go = pd.DataFrame(data = {'total goals': [np.sum(scores[name][\"goals\"])],\"total points\": [np.sum(scores[name][\"score\"])],\"total shots\": [np.sum(scores[name][\"shots\"])],\"total saves\": [np.sum(scores[name][\"saves\"])],\"total assists\": [np.sum(scores[name][\"assists\"])]})\n",
    "\n",
    "\n",
    "p2 = hv.Layout(scores.hvplot.box(\"score\", by=\"name\", height=400, width=300, title=\"Players score distribution\")+ scores[name].hvplot.table(columns=[\"match_id\",\"score\",\"goals\",\"assists\",\"shots\",\"saves\"],selectable=True,width=500)+go.hvplot.table(width=400,height=100)).cols(2)\n",
    "p2"
   ]
  },
  {
   "cell_type": "code",
   "execution_count": null,
   "id": "4207303f",
   "metadata": {},
   "outputs": [],
   "source": []
  }
 ],
 "metadata": {
  "kernelspec": {
   "display_name": "PySpark",
   "language": "python",
   "name": "pysparkkernel"
  },
  "language_info": {
   "codemirror_mode": {
    "name": "python",
    "version": 3
   },
   "file_extension": ".py",
   "mimetype": "text/x-python",
   "name": "pyspark",
   "pygments_lexer": "python3"
  }
 },
 "nbformat": 4,
 "nbformat_minor": 5
}
