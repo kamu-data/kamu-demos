{
 "cells": [
  {
   "cell_type": "code",
   "execution_count": null,
   "id": "930ead59",
   "metadata": {},
   "outputs": [],
   "source": [
    "%load_ext kamu"
   ]
  },
  {
   "cell_type": "code",
   "execution_count": null,
   "id": "90f42b16",
   "metadata": {},
   "outputs": [],
   "source": [
    "%%local\n",
    "import pandas as pd\n",
    "import hvplot.pandas\n",
    "#pd.set_option('display.max_rows', 500)\n",
    "#pd.set_option('display.max_columns', 500)\n",
    "#pd.set_option('display.width', 1000)\n",
    "pd.set_option('max_colwidth', 1000)"
   ]
  },
  {
   "cell_type": "code",
   "execution_count": null,
   "id": "bd145c91",
   "metadata": {},
   "outputs": [],
   "source": [
    "%import_dataset matches --alias matches\n",
    "%import_dataset player-scores\n",
    "%import_dataset player-scores-total"
   ]
  },
  {
   "cell_type": "code",
   "execution_count": null,
   "id": "ec38f1fb",
   "metadata": {},
   "outputs": [],
   "source": [
    "%%sql -o scores\n",
    "select * from `player-scores`"
   ]
  },
  {
   "cell_type": "code",
   "execution_count": null,
   "id": "a7b8002b",
   "metadata": {},
   "outputs": [],
   "source": [
    "%%local\n",
    "scores.hvplot.box(\"score\", by=\"name\", height=500, width=800, title=\"Players score distribution\")"
   ]
  },
  {
   "cell_type": "code",
   "execution_count": null,
   "id": "d85337bb",
   "metadata": {},
   "outputs": [],
   "source": [
    "%%sql -o best_scores\n",
    "select \n",
    "    name, \n",
    "    max(score_top) as score_top\n",
    "from `player-scores-total`\n",
    "group by name\n",
    "order by 2 desc"
   ]
  },
  {
   "cell_type": "code",
   "execution_count": null,
   "id": "0df45ac8",
   "metadata": {},
   "outputs": [],
   "source": [
    "%%local\n",
    "best_scores.hvplot.bar(x=\"name\", y=\"score_top\")"
   ]
  },
  {
   "cell_type": "code",
   "execution_count": null,
   "id": "e23b5c40",
   "metadata": {},
   "outputs": [],
   "source": [
    "from pyspark.sql.functions import col, udf\n",
    "from gzip import compress\n",
    "\n",
    "udf_compress = udf(compress)\n",
    "matches_gz = matches.withColumn(\"replay_json_gz\", udf_compress(col(\"replay_json\")))\n",
    "matches_gz.createOrReplaceTempView(\"matches_gz\")"
   ]
  },
  {
   "cell_type": "code",
   "execution_count": null,
   "id": "f0a2c75c",
   "metadata": {},
   "outputs": [],
   "source": [
    "%%sql\n",
    "select event_time, match_id, replay_json_gz from matches_gz"
   ]
  },
  {
   "cell_type": "code",
   "execution_count": null,
   "id": "eeb68b3c",
   "metadata": {},
   "outputs": [],
   "source": []
  }
 ],
 "metadata": {
  "kernelspec": {
   "display_name": "PySpark",
   "language": "python",
   "name": "pysparkkernel"
  },
  "language_info": {
   "codemirror_mode": {
    "name": "python",
    "version": 3
   },
   "file_extension": ".py",
   "mimetype": "text/x-python",
   "name": "pyspark",
   "pygments_lexer": "python3"
  }
 },
 "nbformat": 4,
 "nbformat_minor": 5
}
