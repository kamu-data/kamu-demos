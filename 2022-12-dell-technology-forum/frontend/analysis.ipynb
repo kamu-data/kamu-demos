{
 "cells": [
  {
   "cell_type": "code",
   "execution_count": null,
   "id": "930ead59",
   "metadata": {},
   "outputs": [],
   "source": [
    "%load_ext kamu"
   ]
  },
  {
   "cell_type": "code",
   "execution_count": null,
   "id": "90f42b16",
   "metadata": {},
   "outputs": [],
   "source": [
    "%%local\n",
    "import pandas as pd\n",
    "import hvplot.pandas\n",
    "#pd.set_option('display.max_rows', 500)\n",
    "#pd.set_option('display.max_columns', 500)\n",
    "#pd.set_option('display.width', 1000)\n",
    "pd.set_option('max_colwidth', 1000)"
   ]
  },
  {
   "cell_type": "code",
   "execution_count": null,
   "id": "bd145c91",
   "metadata": {},
   "outputs": [],
   "source": [
    "%import_dataset matches\n",
    "%import_dataset player-scores\n",
    "%import_dataset player-scores-total"
   ]
  },
  {
   "cell_type": "code",
   "execution_count": null,
   "id": "ec38f1fb",
   "metadata": {},
   "outputs": [],
   "source": [
    "%%sql -o scores\n",
    "select * from `player-scores`"
   ]
  },
  {
   "cell_type": "code",
   "execution_count": null,
   "id": "a7b8002b",
   "metadata": {},
   "outputs": [],
   "source": [
    "%%local\n",
    "scores.hvplot.box(\"score\", by=\"name\", height=500, width=800, title=\"Players score distribution\")"
   ]
  },
  {
   "cell_type": "code",
   "execution_count": null,
   "id": "d85337bb",
   "metadata": {},
   "outputs": [],
   "source": []
  }
 ],
 "metadata": {
  "kernelspec": {
   "display_name": "PySpark",
   "language": "python",
   "name": "pysparkkernel"
  },
  "language_info": {
   "codemirror_mode": {
    "name": "python",
    "version": 3
   },
   "file_extension": ".py",
   "mimetype": "text/x-python",
   "name": "pyspark",
   "pygments_lexer": "python3"
  }
 },
 "nbformat": 4,
 "nbformat_minor": 5
}
