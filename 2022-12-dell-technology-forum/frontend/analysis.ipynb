{
 "cells": [
  {
   "cell_type": "code",
   "execution_count": 1,
   "id": "930ead59",
   "metadata": {},
   "outputs": [],
   "source": [
    "%load_ext kamu"
   ]
  },
  {
   "cell_type": "code",
   "execution_count": 14,
   "id": "90f42b16",
   "metadata": {},
   "outputs": [],
   "source": [
    "%%local\n",
    "import pandas as pd\n",
    "#pd.set_option('display.max_rows', 500)\n",
    "#pd.set_option('display.max_columns', 500)\n",
    "#pd.set_option('display.width', 1000)\n",
    "pd.set_option('max_colwidth', 1000)"
   ]
  },
  {
   "cell_type": "code",
   "execution_count": 1,
   "id": "5bf20173",
   "metadata": {},
   "outputs": [],
   "source": [
    "%%local\n",
    "import rattletrap as rt\n",
    "\n",
    "rt."
   ]
  },
  {
   "cell_type": "code",
   "execution_count": 2,
   "id": "bd145c91",
   "metadata": {},
   "outputs": [
    {
     "name": "stdout",
     "output_type": "stream",
     "text": [
      "Starting Spark application\n"
     ]
    },
    {
     "data": {
      "text/html": [
       "<table>\n",
       "<tr><th>ID</th><th>YARN Application ID</th><th>Kind</th><th>State</th><th>Spark UI</th><th>Driver log</th><th>User</th><th>Current session?</th></tr><tr><td>0</td><td>None</td><td>pyspark</td><td>idle</td><td></td><td></td><td>None</td><td>✔</td></tr></table>"
      ],
      "text/plain": [
       "<IPython.core.display.HTML object>"
      ]
     },
     "metadata": {},
     "output_type": "display_data"
    },
    {
     "data": {
      "application/vnd.jupyter.widget-view+json": {
       "model_id": "",
       "version_major": 2,
       "version_minor": 0
      },
      "text/plain": [
       "FloatProgress(value=0.0, bar_style='info', description='Progress:', layout=Layout(height='25px', width='50%'),…"
      ]
     },
     "metadata": {},
     "output_type": "display_data"
    },
    {
     "name": "stdout",
     "output_type": "stream",
     "text": [
      "SparkSession available as 'spark'.\n"
     ]
    },
    {
     "data": {
      "application/vnd.jupyter.widget-view+json": {
       "model_id": "",
       "version_major": 2,
       "version_minor": 0
      },
      "text/plain": [
       "FloatProgress(value=0.0, bar_style='info', description='Progress:', layout=Layout(height='25px', width='50%'),…"
      ]
     },
     "metadata": {},
     "output_type": "display_data"
    }
   ],
   "source": [
    "%import_dataset replays"
   ]
  },
  {
   "cell_type": "code",
   "execution_count": 3,
   "id": "ec38f1fb",
   "metadata": {},
   "outputs": [
    {
     "data": {
      "application/vnd.jupyter.widget-view+json": {
       "model_id": "",
       "version_major": 2,
       "version_minor": 0
      },
      "text/plain": [
       "FloatProgress(value=0.0, bar_style='info', description='Progress:', layout=Layout(height='25px', width='50%'),…"
      ]
     },
     "metadata": {},
     "output_type": "display_data"
    },
    {
     "data": {
      "application/vnd.jupyter.widget-view+json": {
       "model_id": "31ff6314e4644b85a43b59dfb525137c",
       "version_major": 2,
       "version_minor": 0
      },
      "text/plain": [
       "VBox(children=(HBox(children=(HTML(value='Type:'), Button(description='Table', layout=Layout(width='70px'), st…"
      ]
     },
     "metadata": {},
     "output_type": "display_data"
    },
    {
     "data": {
      "application/vnd.jupyter.widget-view+json": {
       "model_id": "4d87c5d23bb349638f88b078452b2d5c",
       "version_major": 2,
       "version_minor": 0
      },
      "text/plain": [
       "Output()"
      ]
     },
     "metadata": {},
     "output_type": "display_data"
    }
   ],
   "source": [
    "%%sql\n",
    "select * from replays"
   ]
  },
  {
   "cell_type": "code",
   "execution_count": 28,
   "id": "5b523ea6",
   "metadata": {},
   "outputs": [
    {
     "data": {
      "application/vnd.jupyter.widget-view+json": {
       "model_id": "",
       "version_major": 2,
       "version_minor": 0
      },
      "text/plain": [
       "FloatProgress(value=0.0, bar_style='info', description='Progress:', layout=Layout(height='25px', width='50%'),…"
      ]
     },
     "metadata": {},
     "output_type": "display_data"
    },
    {
     "data": {
      "application/vnd.jupyter.widget-view+json": {
       "model_id": "ea77258f42b749f39bc739b0255e5394",
       "version_major": 2,
       "version_minor": 0
      },
      "text/plain": [
       "VBox(children=(HBox(children=(HTML(value='Type:'), Button(description='Table', layout=Layout(width='70px'), st…"
      ]
     },
     "metadata": {},
     "output_type": "display_data"
    },
    {
     "data": {
      "application/vnd.jupyter.widget-view+json": {
       "model_id": "5b6bd47d6f364e21b2ad55f05b6d507f",
       "version_major": 2,
       "version_minor": 0
      },
      "text/plain": [
       "Output()"
      ]
     },
     "metadata": {},
     "output_type": "display_data"
    }
   ],
   "source": [
    "%%sql\n",
    "with\n",
    "\n",
    "player_stats_json as (\n",
    "    select\n",
    "        event_time,\n",
    "        get_json_object(\n",
    "            replay_json, \n",
    "            '$.header.body.properties.value.PlayerStats.value.array'\n",
    "        ) as ps_json \n",
    "    from replays\n",
    "),\n",
    "\n",
    "player_stats_raw as (\n",
    "    select\n",
    "        event_time,\n",
    "        explode(from_json(ps_json, '\n",
    "            array<struct<value:struct<\n",
    "                Name:struct<value:struct<str:string>>,\n",
    "                Team:struct<value:struct<int:integer>>,\n",
    "                bBot:struct<value:struct<bool:integer>>,\n",
    "                Score:struct<value:struct<int:integer>>,\n",
    "                Goals:struct<value:struct<int:integer>>,\n",
    "                Assists:struct<value:struct<int:integer>>,\n",
    "                Shots:struct<value:struct<int:integer>>,\n",
    "                Saves:struct<value:struct<int:integer>>\n",
    "            >>>\n",
    "        ')) as stats\n",
    "    from player_stats_json\n",
    "),\n",
    "                \n",
    "player_stats as (\n",
    "    select\n",
    "        event_time,\n",
    "        stats.value.name.value.str as name,\n",
    "        stats.value.team.value.int as team,\n",
    "        stats.value.bBot.value.bool as is_bot,\n",
    "        stats.value.score.value.int as score,\n",
    "        stats.value.goals.value.int as goals,\n",
    "        stats.value.assists.value.int as assists,\n",
    "        stats.value.shots.value.int as shots,\n",
    "        stats.value.saves.value.int as saves\n",
    "    from player_stats_raw\n",
    ")\n",
    "\n",
    "select * from player_stats"
   ]
  },
  {
   "cell_type": "code",
   "execution_count": 64,
   "id": "3e0a5c33",
   "metadata": {},
   "outputs": [
    {
     "data": {
      "application/vnd.jupyter.widget-view+json": {
       "model_id": "",
       "version_major": 2,
       "version_minor": 0
      },
      "text/plain": [
       "FloatProgress(value=0.0, bar_style='info', description='Progress:', layout=Layout(height='25px', width='50%'),…"
      ]
     },
     "metadata": {},
     "output_type": "display_data"
    },
    {
     "data": {
      "application/vnd.jupyter.widget-view+json": {
       "model_id": "2a81c8596ceb45729cd55990686bab92",
       "version_major": 2,
       "version_minor": 0
      },
      "text/plain": [
       "VBox(children=(HBox(children=(HTML(value='Type:'), Button(description='Table', layout=Layout(width='70px'), st…"
      ]
     },
     "metadata": {},
     "output_type": "display_data"
    },
    {
     "data": {
      "application/vnd.jupyter.widget-view+json": {
       "model_id": "a5b461d5248046ecadf4b71ad334919c",
       "version_major": 2,
       "version_minor": 0
      },
      "text/plain": [
       "Output()"
      ]
     },
     "metadata": {},
     "output_type": "display_data"
    }
   ],
   "source": [
    "%%sql\n",
    "with\n",
    "\n",
    "header_json as (\n",
    "    select\n",
    "        event_time,\n",
    "        get_json_object(\n",
    "            replay_json,\n",
    "            '$.header.body.properties.value'\n",
    "        ) as header_json\n",
    "    from replays\n",
    "),\n",
    "\n",
    "header_raw as (\n",
    "    select\n",
    "        event_time,\n",
    "        from_json(header_json, '\n",
    "            struct<\n",
    "                Id:struct<value:struct<str:string>>,\n",
    "                Date:struct<value:struct<str:string>>,\n",
    "                MapName:struct<value:struct<name:string>>,\n",
    "                TeamSize:struct<value:struct<int:integer>>,\n",
    "                UnfairTeamSize:struct<value:struct<int:integer>>\n",
    "            >\n",
    "        ') as header\n",
    "    from header_json\n",
    ")\n",
    "                \n",
    "select\n",
    "    cast(unix_timestamp(header.Date.value.str, \"yyyy-MM-dd HH-mm-ss\") as timestamp) as event_time,\n",
    "    header.Id.value.str as match_id,\n",
    "    header.MapName.value.name as map_name,\n",
    "    header.TeamSize.value.int as team_size,\n",
    "    header.UnfairTeamSize.value.int as unfair_team_size\n",
    "from header_raw"
   ]
  },
  {
   "cell_type": "code",
   "execution_count": 61,
   "id": "2597c6bf",
   "metadata": {},
   "outputs": [
    {
     "data": {
      "application/vnd.jupyter.widget-view+json": {
       "model_id": "",
       "version_major": 2,
       "version_minor": 0
      },
      "text/plain": [
       "FloatProgress(value=0.0, bar_style='info', description='Progress:', layout=Layout(height='25px', width='50%'),…"
      ]
     },
     "metadata": {},
     "output_type": "display_data"
    },
    {
     "data": {
      "application/vnd.jupyter.widget-view+json": {
       "model_id": "845ca0c57f594df39f7c3b677245ff60",
       "version_major": 2,
       "version_minor": 0
      },
      "text/plain": [
       "VBox(children=(HBox(children=(HTML(value='Type:'), Button(description='Table', layout=Layout(width='70px'), st…"
      ]
     },
     "metadata": {},
     "output_type": "display_data"
    },
    {
     "data": {
      "application/vnd.jupyter.widget-view+json": {
       "model_id": "afa46e27a8e24f4d81f07973c50b2cae",
       "version_major": 2,
       "version_minor": 0
      },
      "text/plain": [
       "Output()"
      ]
     },
     "metadata": {},
     "output_type": "display_data"
    }
   ],
   "source": [
    "%%sql\n",
    "--select cast(unix_timestamp(\"2022-10-06 20-15-18\", \"yyyy-M-d h-m-s\") as timestamp) as event_time\n",
    "select cast(unix_timestamp(\"2022-10-06 20-15-18\", \"yyyy-MM-dd HH-mm-ss\") as timestamp) as event_time"
   ]
  },
  {
   "cell_type": "code",
   "execution_count": null,
   "id": "a7b8002b",
   "metadata": {},
   "outputs": [],
   "source": []
  }
 ],
 "metadata": {
  "kernelspec": {
   "display_name": "PySpark",
   "language": "python",
   "name": "pysparkkernel"
  },
  "language_info": {
   "codemirror_mode": {
    "name": "python",
    "version": 3
   },
   "file_extension": ".py",
   "mimetype": "text/x-python",
   "name": "pyspark",
   "pygments_lexer": "python3"
  }
 },
 "nbformat": 4,
 "nbformat_minor": 5
}
