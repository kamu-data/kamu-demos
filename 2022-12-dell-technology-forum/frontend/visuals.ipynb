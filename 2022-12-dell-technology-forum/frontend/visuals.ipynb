{
 "cells": [
  {
   "cell_type": "code",
   "execution_count": null,
   "id": "a71da4d1",
   "metadata": {},
   "outputs": [],
   "source": [
    "%load_ext kamu\n",
    "%import_dataset matches\n",
    "%import_dataset player-scores\n",
    "%import_dataset player-scores-total"
   ]
  },
  {
   "cell_type": "code",
   "execution_count": null,
   "id": "4f2f2cec",
   "metadata": {},
   "outputs": [],
   "source": [
    "%%sql -o scores\n",
    "select * from `player-scores`"
   ]
  },
  {
   "cell_type": "code",
   "execution_count": null,
   "id": "25305e8d",
   "metadata": {},
   "outputs": [],
   "source": [
    "%%local\n",
    "import numpy as np\n",
    "import pandas as pd\n",
    "import hvplot.pandas, holoviews as hv\n",
    "import panel as pn\n",
    "\n",
    "# Grabbing all player names from our dataset\n",
    "playerNames = scores.name.unique()\n",
    "\n",
    "# Creating a drop-down widget to select users\n",
    "playerSelect = pn.widgets.Select(options=list(playerNames), name='Player')\n",
    "\n",
    "# Total performance calculation for selected player\n",
    "def totalPerformance_df(playerSelect):\n",
    "    name = scores[\"name\"].isin([playerSelect])\n",
    "    df = pd.DataFrame(data = {\n",
    "            \"Goals\": [scores[name][\"goals\"].sum()], \n",
    "            \"Score\": [scores[name][\"score\"].sum()],\n",
    "            \"Shots\": [scores[name][\"shots\"].sum()],\n",
    "            \"Saves\": [scores[name][\"saves\"].sum()],\n",
    "            \"Assists\": [scores[name][\"assists\"].sum()]\n",
    "            })\n",
    "    return df\n",
    "\n",
    "performance_dfi = hvplot.bind(totalPerformance_df, playerSelect).interactive(width=400)\n",
    "\n",
    "# All matches for selected player\n",
    "def allMatches_df(playerSelect):\n",
    "    name = scores[\"name\"].isin([playerSelect])\n",
    "    data = scores[name][[\"match_id\",\"goals\", \"score\", \"shots\", \"saves\", \"assists\"]]\n",
    "    df = pd.DataFrame(data)\n",
    "    return df\n",
    "\n",
    "allMatches_dfi = hvplot.bind(allMatches_df, playerSelect).interactive(width=400).head(10)\n",
    "\n",
    "# Initializing Visulization Grid\n",
    "gspec = pn.GridSpec(sizing_mode='stretch_both', max_height=500)\n",
    "\n",
    "gspec[:, 0] = scores.hvplot.box(\"score\", by=\"name\", \n",
    "                                height=400, width=300, \n",
    "                                title=\"Players Score Distribution\", \n",
    "                                ylabel=\"Player Names\", xlabel= \"Player Scores\"\n",
    "                               ).opts(fontsize={'title': 14, 'labels': 12, 'xticks': 10, 'yticks': 10})\n",
    "\n",
    "gspec[0, 1] = performance_dfi.hvplot.table(width=400, height=100, title= \"Total Score\")\n",
    "\n",
    "gspec[1:3, 1] = allMatches_dfi.hvplot.table(width=400, height=200, title= \"Score Board\")\n",
    "\n",
    "gspec"
   ]
  },
  {
   "cell_type": "code",
   "execution_count": null,
   "id": "4af535c7",
   "metadata": {},
   "outputs": [],
   "source": [
    "%%sql -o df\n",
    "select * \n",
    "from matches order by event_time desc limit 1"
   ]
  },
  {
   "cell_type": "code",
   "execution_count": null,
   "id": "5e9715ed",
   "metadata": {},
   "outputs": [],
   "source": [
    "%%local\n",
    "from classes.process import PreProcess, Video, Visualize\n",
    "\n",
    "import json\n",
    "# this script reads the RL replay file and parses it into a json(internally) using rattletrap\n",
    "# afterwards the necessary data is extracted and then turned into a heatmap, displays the match in 2d; see specific explanation below\n",
    "# the main player is the player from which the replay was grabbed\n",
    "\n",
    "\n",
    "#init classes\n",
    "proc = PreProcess()\n",
    "heat = Visualize()\n",
    "\n",
    "#load the converted json file from dataset\n",
    "queried_replay = json.loads(df.loc[0].replay_json)\n",
    "\n",
    "#process the json for car/bal location and other required variables\n",
    "car_positions = proc.get_paths(queried_replay)\n",
    "\n",
    "#extract relevant data from the prior process into format we use for visualization\n",
    "car_histories = proc.car_positions_to_histories(car_positions[0])\n",
    "\n",
    "#grab var needed in other class\n",
    "teamord,player_ids,player_nam,teamnr,vip = proc.get_var()\n",
    "\n",
    "#turn data into heatmaps, stats etc..\n",
    "#shows 2 plots: raw density plot of position\n",
    "               #gaussian blur density plot of position\n",
    "visuals = heat.vis(car_histories,scores,teamord,player_ids)\n"
   ]
  },
  {
   "cell_type": "code",
   "execution_count": null,
   "id": "cc75cddd",
   "metadata": {},
   "outputs": [],
   "source": [
    "%%local \n",
    "#init video class\n",
    "html5 = Video(car_histories,player_nam,teamord,player_ids,vip,teamnr)\n",
    "#turn data into a video for upload after event\n",
    "video = html5.vis(max_duration=30.0, fps=10, width_inches=4.0)"
   ]
  },
  {
   "cell_type": "code",
   "execution_count": null,
   "id": "7e9f830f",
   "metadata": {},
   "outputs": [],
   "source": []
  }
 ],
 "metadata": {
  "kernelspec": {
   "display_name": "PySpark",
   "language": "python",
   "name": "pysparkkernel"
  },
  "language_info": {
   "codemirror_mode": {
    "name": "python",
    "version": 3
   },
   "file_extension": ".py",
   "mimetype": "text/x-python",
   "name": "pyspark",
   "pygments_lexer": "python3"
  }
 },
 "nbformat": 4,
 "nbformat_minor": 5
}
