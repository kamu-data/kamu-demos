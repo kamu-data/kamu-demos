{
 "cells": [
  {
   "cell_type": "code",
   "execution_count": null,
   "id": "a71da4d1",
   "metadata": {},
   "outputs": [],
   "source": [
    "%load_ext kamu\n",
    "%import_dataset matches\n",
    "%import_dataset player-scores\n",
    "%import_dataset player-scores-total"
   ]
  },
  {
   "cell_type": "code",
   "execution_count": null,
   "id": "4f2f2cec",
   "metadata": {},
   "outputs": [],
   "source": [
    "%%sql -o scores\n",
    "select * from `player-scores`\n",
    "where name='KrabbyPattie'OR name='visper'OR name='ItIsIThomas'"
   ]
  },
  {
   "cell_type": "code",
   "execution_count": null,
   "id": "25305e8d",
   "metadata": {},
   "outputs": [],
   "source": [
    "%%local\n",
    "import numpy as np\n",
    "\n",
    "import pandas as pd\n",
    "import hvplot.pandas, holoviews as hv\n",
    "name = scores[\"name\"].isin([\"KrabbyPattie\"])\n",
    "go = pd.DataFrame(\n",
    "    data={'total goals': [np.sum(scores[name][\"goals\"])], \"total points\": [np.sum(scores[name][\"score\"])],\n",
    "          \"total shots\": [np.sum(scores[name][\"shots\"])], \"total saves\": [np.sum(scores[name][\"saves\"])],\n",
    "          \"total assists\": [np.sum(scores[name][\"assists\"])]})\n",
    "\n",
    "p2 = hv.Layout(\n",
    "    scores.hvplot.box(\"score\", by=\"name\", height=400, width=300, title=\"Players score distribution\") + scores[\n",
    "        name].hvplot.table(columns=[\"match_id\", \"score\", \"goals\", \"assists\", \"shots\", \"saves\"], selectable=True,\n",
    "                           width=500) + go.hvplot.table(width=400, height=100)).cols(2)\n",
    "p2"
   ]
  },
  {
   "cell_type": "code",
   "execution_count": null,
   "id": "4af535c7",
   "metadata": {},
   "outputs": [],
   "source": [
    "%%sql -o df\n",
    "select * \n",
    "from matches order by event_time desc limit 1"
   ]
  },
  {
   "cell_type": "code",
   "execution_count": null,
   "id": "5e9715ed",
   "metadata": {},
   "outputs": [],
   "source": [
    "%%local\n",
    "import json\n",
    "\n",
    "from rattletrap import Replay\n",
    "\n",
    "from classes.process import PreProcess, Video, Visualize\n",
    "\n",
    "\n",
    "# this script reads the RL replay file and parses it into a json(internally) using rattletrap\n",
    "# afterwards the necessary data is extracted and then turned into a heatmap, displays the match in 2d; see specific explanation below\n",
    "# the main player is the player from which the replay was grabbed\n",
    "\n",
    "proc = PreProcess()\n",
    "heat = Visualize()\n",
    "\n",
    "#load the converted json file from dataset\n",
    "queried_replay = Replay.from_json(json.loads(df.loc[0].replay_json))\n",
    "\n",
    "#process the json for car/bal location and other required variables\n",
    "car_positions = proc.get_paths(queried_replay)\n",
    "\n",
    "#extract relevant data from the prior process into format we use for visualization\n",
    "car_histories = proc.car_positions_to_histories(car_positions[0])\n",
    "\n",
    "teamord,player_ids = proc.get_var()\n",
    "\n",
    "#turn data into heatmaps, stats etc..\n",
    "visuals = heat.vis(car_histories,scores,teamord,player_ids)\n",
    "\n",
    "\n",
    "\n",
    "\n"
   ]
  },
  {
   "cell_type": "code",
   "execution_count": null,
   "id": "cc75cddd",
   "metadata": {},
   "outputs": [],
   "source": [
    "%%local \n",
    "html5 = Video()\n",
    "#turn data into a video for upload after event\n",
    "video = html5.vid(car_histories)"
   ]
  },
  {
   "cell_type": "code",
   "execution_count": null,
   "id": "7e9f830f",
   "metadata": {},
   "outputs": [],
   "source": []
  }
 ],
 "metadata": {
  "kernelspec": {
   "display_name": "PySpark",
   "language": "python",
   "name": "pysparkkernel"
  },
  "language_info": {
   "codemirror_mode": {
    "name": "python",
    "version": 3
   },
   "file_extension": ".py",
   "mimetype": "text/x-python",
   "name": "pyspark",
   "pygments_lexer": "python3"
  }
 },
 "nbformat": 4,
 "nbformat_minor": 5
}
