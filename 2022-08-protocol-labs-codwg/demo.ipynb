{
 "cells": [
  {
   "cell_type": "markdown",
   "metadata": {},
   "source": [
    "# Kamu: CODWG Demo"
   ]
  },
  {
   "cell_type": "code",
   "execution_count": null,
   "metadata": {},
   "outputs": [],
   "source": [
    "%%local\n",
    "import pandas as pd\n",
    "import hvplot.pandas\n",
    "import holoviews as hv\n",
    "pd.set_option('max_colwidth', None)"
   ]
  },
  {
   "cell_type": "code",
   "execution_count": null,
   "metadata": {},
   "outputs": [],
   "source": [
    "%load_ext kamu"
   ]
  },
  {
   "cell_type": "code",
   "execution_count": null,
   "metadata": {},
   "outputs": [],
   "source": [
    "%import_dataset com.cryptocompare.ohlcv.eth-usd"
   ]
  },
  {
   "cell_type": "code",
   "execution_count": null,
   "metadata": {},
   "outputs": [],
   "source": [
    "%%sql -o eth2usd -q\n",
    "select\n",
    "    * \n",
    "from `com.cryptocompare.ohlcv.eth-usd`\n",
    "order by event_time"
   ]
  },
  {
   "cell_type": "code",
   "execution_count": null,
   "metadata": {},
   "outputs": [],
   "source": [
    "%%local\n",
    "eth2usd.hvplot.line(\n",
    "    x=\"event_time\",\n",
    "    y=\"close\",\n",
    "    xlabel=\"Time\",\n",
    "    ylabel=\"USD\",\n",
    "    title=\"Exchange Rate: ETH to USD\",\n",
    "    height=500, \n",
    "    width=800,\n",
    "    grid=True,\n",
    ")"
   ]
  },
  {
   "cell_type": "code",
   "execution_count": null,
   "metadata": {},
   "outputs": [],
   "source": [
    "%import_dataset account.transactions"
   ]
  },
  {
   "cell_type": "code",
   "execution_count": null,
   "metadata": {},
   "outputs": [],
   "source": [
    "%%sql\n",
    "select *\n",
    "from `account.transactions`\n",
    "order by block_time\n",
    "limit 5"
   ]
  },
  {
   "cell_type": "code",
   "execution_count": null,
   "metadata": {},
   "outputs": [],
   "source": [
    "%%sql -o txns -q\n",
    "select \n",
    "    block_time,\n",
    "    value / pow(10.0, 18) as value\n",
    "from `account.transactions`"
   ]
  },
  {
   "cell_type": "code",
   "execution_count": null,
   "metadata": {},
   "outputs": [],
   "source": [
    "%%local\n",
    "txns.hvplot.scatter(\n",
    "    x=\"block_time\",\n",
    "    y=\"value\",\n",
    "    color=\"orange\",\n",
    "    title=\"Account Transactions: ETH Value\",\n",
    "    height=500, \n",
    "    width=800,\n",
    "    grid=True,\n",
    ")"
   ]
  },
  {
   "cell_type": "code",
   "execution_count": null,
   "metadata": {},
   "outputs": [],
   "source": [
    "%import_dataset account.balance"
   ]
  },
  {
   "cell_type": "code",
   "execution_count": null,
   "metadata": {},
   "outputs": [],
   "source": [
    "%%sql -o balance_eth -q\n",
    "select\n",
    "    *\n",
    "from `account.balance`\n",
    "order by block_time"
   ]
  },
  {
   "cell_type": "code",
   "execution_count": null,
   "metadata": {},
   "outputs": [],
   "source": [
    "%%local\n",
    "balance_eth.hvplot.step(\n",
    "    x=\"block_time\",\n",
    "    y=\"balance\",\n",
    "    xlabel=\"Time\",\n",
    "    ylabel=\"ETH\",\n",
    "    width=900, height=600, \n",
    "    legend='top_left', grid=True, \n",
    "    title=\"Account: Balance (ETH)\",\n",
    ")"
   ]
  },
  {
   "cell_type": "code",
   "execution_count": null,
   "metadata": {},
   "outputs": [],
   "source": [
    "%import_dataset account.market-value.usd"
   ]
  },
  {
   "cell_type": "code",
   "execution_count": null,
   "metadata": {},
   "outputs": [],
   "source": [
    "%%sql -o mkt_val -q\n",
    "select\n",
    "    *\n",
    "from `account.market-value.usd`\n",
    "order by event_time"
   ]
  },
  {
   "cell_type": "code",
   "execution_count": null,
   "metadata": {},
   "outputs": [],
   "source": [
    "%%local\n",
    "mkt_val.hvplot.line(\n",
    "    x=\"event_time\",\n",
    "    y=\"balance_usd\",\n",
    "    xlabel=\"Time\",\n",
    "    ylabel=\"USD\",\n",
    "    width=900, height=600, \n",
    "    legend='top_left', grid=True, \n",
    "    title=\"Account: Market Value (USD)\",\n",
    ")"
   ]
  },
  {
   "cell_type": "code",
   "execution_count": null,
   "metadata": {},
   "outputs": [],
   "source": []
  }
 ],
 "metadata": {
  "kernelspec": {
   "display_name": "PySpark",
   "language": "python",
   "name": "pysparkkernel"
  },
  "language_info": {
   "codemirror_mode": {
    "name": "python",
    "version": 3
   },
   "file_extension": ".py",
   "mimetype": "text/x-python",
   "name": "pyspark",
   "pygments_lexer": "python3"
  }
 },
 "nbformat": 4,
 "nbformat_minor": 4
}
